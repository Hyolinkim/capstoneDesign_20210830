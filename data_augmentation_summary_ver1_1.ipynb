{
  "nbformat": 4,
  "nbformat_minor": 0,
  "metadata": {
    "colab": {
      "name": "data_augmentation_summary_ver1.1.ipynb",
      "provenance": [],
      "authorship_tag": "ABX9TyMvoG4TkgM6pPdFGkxsZgoO",
      "include_colab_link": true
    },
    "kernelspec": {
      "name": "python3",
      "display_name": "Python 3"
    },
    "language_info": {
      "name": "python"
    }
  },
  "cells": [
    {
      "cell_type": "markdown",
      "metadata": {
        "id": "view-in-github",
        "colab_type": "text"
      },
      "source": [
        "<a href=\"https://colab.research.google.com/github/Hyolinkim/capstoneDesign_20210830/blob/main/data_augmentation_summary_ver1_1.ipynb\" target=\"_parent\"><img src=\"https://colab.research.google.com/assets/colab-badge.svg\" alt=\"Open In Colab\"/></a>"
      ]
    },
    {
      "cell_type": "code",
      "metadata": {
        "colab": {
          "base_uri": "https://localhost:8080/"
        },
        "id": "ohrILp3rsy_T",
        "outputId": "55756da8-db4f-484c-8132-5c6b077c57a3"
      },
      "source": [
        "from google.colab import drive\n",
        "drive.mount('/content/drive')"
      ],
      "execution_count": 1,
      "outputs": [
        {
          "output_type": "stream",
          "name": "stdout",
          "text": [
            "Mounted at /content/drive\n"
          ]
        }
      ]
    },
    {
      "cell_type": "code",
      "metadata": {
        "id": "EYXdjLzVs83F"
      },
      "source": [
        "filename='/content/drive/MyDrive/캡스톤디자인2/Sendsordata/Dumbbellcurl_rw_24_ver2.csv'"
      ],
      "execution_count": 2,
      "outputs": []
    },
    {
      "cell_type": "code",
      "metadata": {
        "id": "_ekCenN5s9NG"
      },
      "source": [
        "#io와 pandas 모듈 import\n",
        "import io\n",
        "import pandas as pd\n",
        "import numpy as np\n",
        "from pandas import Series, DataFrame\n",
        "from numpy import nan as NA\n",
        "import matplotlib.pyplot as plt"
      ],
      "execution_count": 3,
      "outputs": []
    },
    {
      "cell_type": "code",
      "metadata": {
        "id": "HmKiKxHqs-rq"
      },
      "source": [
        "#pandas read_csv로 불러오기\n",
        "data = pd.read_csv(filename)\n",
        "data.columns = ['AcX', 'AcY','AcZ','GyroX','GyroY','GyroZ','class','-','-']"
      ],
      "execution_count": 4,
      "outputs": []
    },
    {
      "cell_type": "code",
      "metadata": {
        "colab": {
          "base_uri": "https://localhost:8080/",
          "height": 418
        },
        "id": "aauXomvTtASg",
        "outputId": "75a89002-f2ba-488f-d082-e6bef8a03d1e"
      },
      "source": [
        "data=data.dropna(axis=1)\n",
        "data"
      ],
      "execution_count": 5,
      "outputs": [
        {
          "output_type": "execute_result",
          "data": {
            "text/html": [
              "<div>\n",
              "<style scoped>\n",
              "    .dataframe tbody tr th:only-of-type {\n",
              "        vertical-align: middle;\n",
              "    }\n",
              "\n",
              "    .dataframe tbody tr th {\n",
              "        vertical-align: top;\n",
              "    }\n",
              "\n",
              "    .dataframe thead th {\n",
              "        text-align: right;\n",
              "    }\n",
              "</style>\n",
              "<table border=\"1\" class=\"dataframe\">\n",
              "  <thead>\n",
              "    <tr style=\"text-align: right;\">\n",
              "      <th></th>\n",
              "      <th>AcX</th>\n",
              "      <th>AcY</th>\n",
              "      <th>AcZ</th>\n",
              "      <th>GyroX</th>\n",
              "      <th>GyroY</th>\n",
              "      <th>GyroZ</th>\n",
              "      <th>class</th>\n",
              "    </tr>\n",
              "  </thead>\n",
              "  <tbody>\n",
              "    <tr>\n",
              "      <th>0</th>\n",
              "      <td>2.319532</td>\n",
              "      <td>-1.001225</td>\n",
              "      <td>-10.185682</td>\n",
              "      <td>-0.087555</td>\n",
              "      <td>-0.333392</td>\n",
              "      <td>-0.135213</td>\n",
              "      <td>y</td>\n",
              "    </tr>\n",
              "    <tr>\n",
              "      <th>1</th>\n",
              "      <td>2.384326</td>\n",
              "      <td>-1.252616</td>\n",
              "      <td>-9.020903</td>\n",
              "      <td>0.155697</td>\n",
              "      <td>-0.109497</td>\n",
              "      <td>0.063928</td>\n",
              "      <td>y</td>\n",
              "    </tr>\n",
              "    <tr>\n",
              "      <th>2</th>\n",
              "      <td>2.544887</td>\n",
              "      <td>-1.409886</td>\n",
              "      <td>-8.989180</td>\n",
              "      <td>-0.071941</td>\n",
              "      <td>0.079720</td>\n",
              "      <td>0.109579</td>\n",
              "      <td>y</td>\n",
              "    </tr>\n",
              "    <tr>\n",
              "      <th>3</th>\n",
              "      <td>2.283619</td>\n",
              "      <td>-1.338359</td>\n",
              "      <td>-8.397962</td>\n",
              "      <td>-0.182164</td>\n",
              "      <td>-0.000434</td>\n",
              "      <td>-0.063802</td>\n",
              "      <td>y</td>\n",
              "    </tr>\n",
              "    <tr>\n",
              "      <th>4</th>\n",
              "      <td>2.085200</td>\n",
              "      <td>-1.446098</td>\n",
              "      <td>-7.507169</td>\n",
              "      <td>-0.414016</td>\n",
              "      <td>-0.161494</td>\n",
              "      <td>-0.195836</td>\n",
              "      <td>y</td>\n",
              "    </tr>\n",
              "    <tr>\n",
              "      <th>...</th>\n",
              "      <td>...</td>\n",
              "      <td>...</td>\n",
              "      <td>...</td>\n",
              "      <td>...</td>\n",
              "      <td>...</td>\n",
              "      <td>...</td>\n",
              "      <td>...</td>\n",
              "    </tr>\n",
              "    <tr>\n",
              "      <th>3168</th>\n",
              "      <td>2.875586</td>\n",
              "      <td>-0.300772</td>\n",
              "      <td>-10.684873</td>\n",
              "      <td>-0.179555</td>\n",
              "      <td>0.312147</td>\n",
              "      <td>-0.034756</td>\n",
              "      <td>n</td>\n",
              "    </tr>\n",
              "    <tr>\n",
              "      <th>3169</th>\n",
              "      <td>2.153135</td>\n",
              "      <td>-0.055516</td>\n",
              "      <td>-10.439168</td>\n",
              "      <td>-0.229176</td>\n",
              "      <td>0.104501</td>\n",
              "      <td>0.014532</td>\n",
              "      <td>n</td>\n",
              "    </tr>\n",
              "    <tr>\n",
              "      <th>3170</th>\n",
              "      <td>3.460519</td>\n",
              "      <td>0.132579</td>\n",
              "      <td>-9.881618</td>\n",
              "      <td>-0.048684</td>\n",
              "      <td>-0.468456</td>\n",
              "      <td>0.072745</td>\n",
              "      <td>n</td>\n",
              "    </tr>\n",
              "    <tr>\n",
              "      <th>3171</th>\n",
              "      <td>1.737143</td>\n",
              "      <td>0.361375</td>\n",
              "      <td>-11.148151</td>\n",
              "      <td>-0.132454</td>\n",
              "      <td>0.149878</td>\n",
              "      <td>0.062209</td>\n",
              "      <td>n</td>\n",
              "    </tr>\n",
              "    <tr>\n",
              "      <th>3172</th>\n",
              "      <td>1.854608</td>\n",
              "      <td>0.492158</td>\n",
              "      <td>-10.319907</td>\n",
              "      <td>0.190387</td>\n",
              "      <td>0.302965</td>\n",
              "      <td>-0.014723</td>\n",
              "      <td>n</td>\n",
              "    </tr>\n",
              "  </tbody>\n",
              "</table>\n",
              "<p>3173 rows × 7 columns</p>\n",
              "</div>"
            ],
            "text/plain": [
              "           AcX       AcY        AcZ     GyroX     GyroY     GyroZ class\n",
              "0     2.319532 -1.001225 -10.185682 -0.087555 -0.333392 -0.135213     y\n",
              "1     2.384326 -1.252616  -9.020903  0.155697 -0.109497  0.063928     y\n",
              "2     2.544887 -1.409886  -8.989180 -0.071941  0.079720  0.109579     y\n",
              "3     2.283619 -1.338359  -8.397962 -0.182164 -0.000434 -0.063802     y\n",
              "4     2.085200 -1.446098  -7.507169 -0.414016 -0.161494 -0.195836     y\n",
              "...        ...       ...        ...       ...       ...       ...   ...\n",
              "3168  2.875586 -0.300772 -10.684873 -0.179555  0.312147 -0.034756     n\n",
              "3169  2.153135 -0.055516 -10.439168 -0.229176  0.104501  0.014532     n\n",
              "3170  3.460519  0.132579  -9.881618 -0.048684 -0.468456  0.072745     n\n",
              "3171  1.737143  0.361375 -11.148151 -0.132454  0.149878  0.062209     n\n",
              "3172  1.854608  0.492158 -10.319907  0.190387  0.302965 -0.014723     n\n",
              "\n",
              "[3173 rows x 7 columns]"
            ]
          },
          "metadata": {},
          "execution_count": 5
        }
      ]
    },
    {
      "cell_type": "code",
      "metadata": {
        "colab": {
          "base_uri": "https://localhost:8080/"
        },
        "id": "tAqyz8MRtCHj",
        "outputId": "112d453b-9790-44a5-ab21-7949f288ce14"
      },
      "source": [
        "#가속도\n",
        "acX_y = []\n",
        "acX_n = []\n",
        "acY_y = []\n",
        "acY_n = []\n",
        "acZ_y = []\n",
        "acZ_n = []\n",
        "for i in range(len(data['class'])):\n",
        "  yorn=data['class'][i]\n",
        "  if yorn == 'y':\n",
        "    acX_y.append(data['AcX'][i]) \n",
        "    acY_y.append(data['AcY'][i])\n",
        "    acZ_y.append(data['AcZ'][i])\n",
        "  else:\n",
        "    acX_n.append(data['AcX'][i])\n",
        "    acY_n.append(data['AcY'][i])\n",
        "    acZ_n.append(data['AcZ'][i])\n",
        "acX_y=np.array(acX_y)\n",
        "acX_n=np.array(acX_n)\n",
        "acY_y=np.array(acY_y)\n",
        "acY_n=np.array(acY_n)\n",
        "acZ_y=np.array(acZ_y)\n",
        "acZ_n=np.array(acZ_n)\n",
        "print(acZ_y.shape)\n",
        "print(acZ_n.shape)\n",
        "print(acY_y.shape)\n",
        "print(acY_n.shape)\n",
        "print(acX_y.shape)\n",
        "print(acX_n.shape)"
      ],
      "execution_count": 6,
      "outputs": [
        {
          "output_type": "stream",
          "name": "stdout",
          "text": [
            "(1548,)\n",
            "(1625,)\n",
            "(1548,)\n",
            "(1625,)\n",
            "(1548,)\n",
            "(1625,)\n"
          ]
        }
      ]
    },
    {
      "cell_type": "code",
      "metadata": {
        "colab": {
          "base_uri": "https://localhost:8080/"
        },
        "id": "qc4JVeSZtX7v",
        "outputId": "df871159-6e59-4335-8753-9db8b0d5b10d"
      },
      "source": [
        "#자이로\n",
        "gyroX_y = []\n",
        "gyroX_n = []\n",
        "gyroY_y = []\n",
        "gyroY_n = []\n",
        "gyroZ_y = []\n",
        "gyroZ_n = []\n",
        "for i in range(len(data['class'])):\n",
        "  yorn = data['class'][i]\n",
        "  if yorn=='y':\n",
        "    gyroX_y.append(data['GyroX'][i])\n",
        "    gyroY_y.append(data['GyroY'][i])\n",
        "    gyroZ_y.append(data['GyroZ'][i])\n",
        "  else:\n",
        "    gyroX_n.append(data['GyroX'][i])\n",
        "    gyroY_n.append(data['GyroY'][i])\n",
        "    gyroZ_n.append(data['GyroZ'][i])\n",
        "gyroX_y=np.array(gyroX_y)\n",
        "gyroX_n=np.array(gyroX_n)\n",
        "gyroY_y=np.array(gyroY_y)\n",
        "gyroY_n=np.array(gyroY_n)\n",
        "gyroZ_y=np.array(gyroZ_y)\n",
        "gyroZ_n=np.array(gyroZ_n)\n",
        "print(gyroX_y.shape)\n",
        "print(gyroX_n.shape)\n",
        "print(gyroY_y.shape)\n",
        "print(gyroY_n.shape)\n",
        "print(gyroZ_y.shape)\n",
        "print(gyroZ_n.shape)"
      ],
      "execution_count": 7,
      "outputs": [
        {
          "output_type": "stream",
          "name": "stdout",
          "text": [
            "(1548,)\n",
            "(1625,)\n",
            "(1548,)\n",
            "(1625,)\n",
            "(1548,)\n",
            "(1625,)\n"
          ]
        }
      ]
    },
    {
      "cell_type": "code",
      "metadata": {
        "colab": {
          "base_uri": "https://localhost:8080/"
        },
        "id": "hldieObntaP3",
        "outputId": "5633f141-ebef-4ea6-9ecb-4f39b72b6b5a"
      },
      "source": [
        "#바른자세 정규분포에서 랜덤하게 번호 뽑기 20개 케이스 만들기\n",
        "acX_y_rand_norm = []\n",
        "acY_y_rand_norm = []\n",
        "acZ_y_rand_norm = []\n",
        "gyroX_y_rand_norm = []\n",
        "gyroY_y_rand_norm = []\n",
        "gyroZ_y_rand_norm = []\n",
        "for i in range(0,20):\n",
        "  acX_y_rand_norm.append(np.random.normal(acX_y.mean(), acX_y.std()*0.7, size=len(acX_y)))\n",
        "  acY_y_rand_norm.append(np.random.normal(acY_y.mean(), acY_y.std()*0.7, size=len(acY_y)))\n",
        "  acZ_y_rand_norm.append(np.random.normal(acZ_y.mean(), acZ_y.std()*0.7, size=len(acZ_y)))\n",
        "  gyroX_y_rand_norm.append(np.random.normal(gyroX_y.mean(), gyroX_y.std()*0.7, size=len(gyroX_y)))\n",
        "  gyroY_y_rand_norm.append(np.random.normal(gyroY_y.mean(), gyroY_y.std()*0.7, size=len(gyroY_y)))\n",
        "  gyroZ_y_rand_norm.append(np.random.normal(gyroZ_y.mean(),gyroZ_y.std()*0.7, size=len(gyroZ_y)))\n",
        "acX_y_rand_norm=np.array(acX_y_rand_norm)\n",
        "acY_y_rand_norm=np.array(acY_y_rand_norm)\n",
        "acZ_y_rand_norm=np.array(acZ_y_rand_norm)\n",
        "gyroX_y_rand_norm=np.array(gyroX_y_rand_norm)\n",
        "gyroY_y_rand_norm=np.array(gyroY_y_rand_norm)\n",
        "gyroZ_y_rand_norm=np.array(gyroZ_y_rand_norm)\n",
        "acX_y_rand_norm=acX_y_rand_norm.reshape(len(acX_y),20)\n",
        "acY_y_rand_norm=acY_y_rand_norm.reshape(len(acY_y),20)\n",
        "acZ_y_rand_norm=acZ_y_rand_norm.reshape(len(acZ_y),20)\n",
        "gyroX_y_rand_norm=gyroX_y_rand_norm.reshape(len(gyroX_y),20)\n",
        "gyroY_y_rand_norm=gyroY_y_rand_norm.reshape(len(gyroY_y),20)\n",
        "gyroZ_y_rand_norm=gyroZ_y_rand_norm.reshape(len(gyroZ_y),20)\n",
        "print(acX_y_rand_norm.shape)\n",
        "print(acY_y_rand_norm.shape)\n",
        "print(acZ_y_rand_norm.shape)\n",
        "print(gyroX_y_rand_norm.shape)\n",
        "print(gyroY_y_rand_norm.shape)\n",
        "print(gyroZ_y_rand_norm.shape)"
      ],
      "execution_count": 17,
      "outputs": [
        {
          "output_type": "stream",
          "name": "stdout",
          "text": [
            "(1548, 20)\n",
            "(1548, 20)\n",
            "(1548, 20)\n",
            "(1548, 20)\n",
            "(1548, 20)\n",
            "(1548, 20)\n"
          ]
        }
      ]
    },
    {
      "cell_type": "code",
      "metadata": {
        "colab": {
          "base_uri": "https://localhost:8080/"
        },
        "id": "x8FUlfB-thz9",
        "outputId": "d327d989-6f82-4608-c8c7-a93710c0df79"
      },
      "source": [
        "#바른자세 정규분포에서 뽑은 데이터 20 케이스를 가지고 더하기\n",
        "#정규화\n",
        "new_acX_y_arr = []\n",
        "new_acY_y_arr = []\n",
        "new_acZ_y_arr = []\n",
        "new_gyroX_y_arr = []\n",
        "new_gyroY_y_arr = []\n",
        "new_gyroZ_y_arr = []\n",
        "#print(len(acX_rand_norm))\n",
        "#print(len(acX_y_5))\n",
        "#print(acX_rand_norm[49][515])\n",
        "\n",
        "for i in range(0,20):\n",
        "  for j in range(len(acX_y)):\n",
        "    new_acX_y=acX_y[j]+acX_y_rand_norm[j][i]\n",
        "    new_acX_y_arr.append([new_acX_y])\n",
        "    new_acY_y=acY_y[j]+acY_y_rand_norm[j][i]\n",
        "    new_acY_y_arr.append([new_acY_y])\n",
        "    new_acZ_y=acZ_y[j]+acZ_y_rand_norm[j][i]\n",
        "    new_acZ_y_arr.append([new_acZ_y])\n",
        "    new_gyroX_y=gyroX_y[j]+gyroX_y_rand_norm[j][i]\n",
        "    new_gyroX_y_arr.append([new_gyroX_y])\n",
        "    new_gyroY_y=gyroY_y[j]+gyroY_y_rand_norm[j][i]\n",
        "    new_gyroY_y_arr.append([new_gyroY_y])\n",
        "    new_gyroZ_y=gyroZ_y[j]+gyroZ_y_rand_norm[j][i]\n",
        "    new_gyroZ_y_arr.append([new_gyroZ_y])\n",
        "\n",
        "new_acX_y_arr=np.array(new_acX_y_arr)\n",
        "new_acY_y_arr=np.array(new_acY_y_arr)\n",
        "new_acZ_y_arr=np.array(new_acZ_y_arr)\n",
        "new_gyroX_y_arr=np.array(new_gyroX_y_arr)\n",
        "new_gyroY_y_arr=np.array(new_gyroY_y_arr)\n",
        "new_gyroZ_y_arr=np.array(new_gyroZ_y_arr)\n",
        "\n",
        "new_y_total = np.concatenate((new_acX_y_arr,new_acY_y_arr,new_acZ_y_arr,\n",
        "                               new_gyroX_y_arr,new_gyroY_y_arr,new_gyroZ_y_arr),axis=1)\n",
        "\n",
        "#정규화\n",
        "from sklearn.preprocessing import MinMaxScaler\n",
        "\n",
        "transformer = MinMaxScaler()\n",
        "transformer.fit(new_y_total)\n",
        "new_y_total_norm = transformer.transform(new_y_total)\n",
        "print(new_y_total_norm.shape)\n",
        "\n",
        "data_y=[]\n",
        "for i in range(len(new_acX_y_arr)):\n",
        "  data_y.append(['y'])\n",
        "data_y = np.array(data_y)\n",
        "\n",
        "# print(data_y.shape)\n",
        "# print(new_acX_y_arr.shape)\n",
        "new_acX_y_arr=np.concatenate((new_acX_y_arr,data_y),axis=1)\n",
        "new_acY_y_arr=np.concatenate((new_acY_y_arr,data_y),axis=1)\n",
        "new_acZ_y_arr=np.concatenate((new_acZ_y_arr,data_y),axis=1)\n",
        "new_gyroX_y_arr=np.concatenate((new_gyroX_y_arr,data_y),axis=1)\n",
        "new_gyroY_y_arr=np.concatenate((new_gyroY_y_arr,data_y),axis=1)\n",
        "new_gyroZ_y_arr=np.concatenate((new_gyroZ_y_arr,data_y),axis=1)\n",
        "\n",
        "new_y_final = np.concatenate((new_y_total_norm,data_y),axis=1)\n",
        "\n",
        "# df2=pd.DataFrame(new_acX_y_arr)\n",
        "# df2\n",
        "\n",
        "print(new_acX_y_arr.shape)\n",
        "print(new_acY_y_arr.shape)\n",
        "print(new_acZ_y_arr.shape)\n",
        "print(new_gyroX_y_arr.shape)\n",
        "print(new_gyroY_y_arr.shape)\n",
        "print(new_gyroZ_y_arr.shape)\n",
        "\n",
        "print(new_y_final.shape)"
      ],
      "execution_count": 18,
      "outputs": [
        {
          "output_type": "stream",
          "name": "stdout",
          "text": [
            "(30960, 6)\n",
            "(30960, 2)\n",
            "(30960, 2)\n",
            "(30960, 2)\n",
            "(30960, 2)\n",
            "(30960, 2)\n",
            "(30960, 2)\n",
            "(30960, 7)\n"
          ]
        }
      ]
    },
    {
      "cell_type": "code",
      "metadata": {
        "colab": {
          "base_uri": "https://localhost:8080/"
        },
        "id": "n-dW4-_ywH3f",
        "outputId": "99909beb-2c09-4bb7-8a0a-2b37f44af895"
      },
      "source": [
        "#잘못된자세 정규분포에서 랜덤하게 번호 뽑기 20개 케이스 만들기\n",
        "acX_n_rand_norm = []\n",
        "acY_n_rand_norm = []\n",
        "acZ_n_rand_norm = []\n",
        "gyroX_n_rand_norm = []\n",
        "gyroY_n_rand_norm = []\n",
        "gyroZ_n_rand_norm = []\n",
        "\n",
        "for i in range(0,20):\n",
        "  acX_n_rand_norm.append(np.random.normal(acX_n.mean(), acX_n.std()*0.7, size=len(acX_n)))\n",
        "  acY_n_rand_norm.append(np.random.normal(acY_n.mean(), acY_n.std()*0.7, size=len(acY_n)))\n",
        "  acZ_n_rand_norm.append(np.random.normal(acZ_n.mean(), acZ_n.std()*0.7, size=len(acZ_n)))\n",
        "  gyroX_n_rand_norm.append(np.random.normal(gyroX_n.mean(), gyroX_n.std()*0.7, size=len(gyroX_n)))\n",
        "  gyroY_n_rand_norm.append(np.random.normal(gyroY_n.mean(), gyroY_n.std()*0.7, size=len(gyroY_n)))\n",
        "  gyroZ_n_rand_norm.append(np.random.normal(gyroZ_n.mean(),gyroZ_n.std()*0.7, size=len(gyroZ_n)))\n",
        "\n",
        "acX_n_rand_norm=np.array(acX_n_rand_norm)\n",
        "acY_n_rand_norm=np.array(acY_n_rand_norm)\n",
        "acZ_n_rand_norm=np.array(acZ_n_rand_norm)\n",
        "gyroX_n_rand_norm=np.array(gyroX_n_rand_norm)\n",
        "gyroY_n_rand_norm=np.array(gyroY_n_rand_norm)\n",
        "gyroZ_n_rand_norm=np.array(gyroZ_n_rand_norm)\n",
        "\n",
        "acX_n_rand_norm=acX_n_rand_norm.reshape(len(acX_n),20)\n",
        "acY_n_rand_norm=acY_n_rand_norm.reshape(len(acY_n),20)\n",
        "acZ_n_rand_norm=acZ_n_rand_norm.reshape(len(acZ_n),20)\n",
        "gyroX_n_rand_norm=gyroX_n_rand_norm.reshape(len(gyroX_n),20)\n",
        "gyroY_n_rand_norm=gyroY_n_rand_norm.reshape(len(gyroY_n),20)\n",
        "gyroZ_n_rand_norm=gyroZ_n_rand_norm.reshape(len(gyroZ_n),20)\n",
        "\n",
        "print(acX_n_rand_norm.shape)\n",
        "print(acY_n_rand_norm.shape)\n",
        "print(acZ_n_rand_norm.shape)\n",
        "print(gyroX_n_rand_norm.shape)\n",
        "print(gyroY_n_rand_norm.shape)\n",
        "print(gyroZ_n_rand_norm.shape)"
      ],
      "execution_count": 19,
      "outputs": [
        {
          "output_type": "stream",
          "name": "stdout",
          "text": [
            "(1625, 20)\n",
            "(1625, 20)\n",
            "(1625, 20)\n",
            "(1625, 20)\n",
            "(1625, 20)\n",
            "(1625, 20)\n"
          ]
        }
      ]
    },
    {
      "cell_type": "code",
      "metadata": {
        "colab": {
          "base_uri": "https://localhost:8080/"
        },
        "id": "5T75itRIwiaj",
        "outputId": "53fe39e2-a863-427d-be49-220a124aca68"
      },
      "source": [
        "#잘못된자세 정규분포에서 뽑은 데이터 20 케이스를 가지고 더하기\n",
        "#정규화\n",
        "new_acX_n_arr = []\n",
        "new_acY_n_arr = []\n",
        "new_acZ_n_arr = []\n",
        "new_gyroX_n_arr = []\n",
        "new_gyroY_n_arr = []\n",
        "new_gyroZ_n_arr = []\n",
        "#print(len(acX_rand_norm))\n",
        "#print(len(acX_y))\n",
        "#print(acX_rand_norm[49][515])\n",
        "\n",
        "for i in range(0,20):\n",
        "  for j in range(len(acX_n)):\n",
        "    new_acX_n=acX_n[j]+acX_n_rand_norm[j][i]\n",
        "    new_acX_n_arr.append([new_acX_n])\n",
        "    new_acY_n=acY_n[j]+acY_n_rand_norm[j][i]\n",
        "    new_acY_n_arr.append([new_acY_n])\n",
        "    new_acZ_n=acZ_n[j]+acZ_n_rand_norm[j][i]\n",
        "    new_acZ_n_arr.append([new_acZ_n])\n",
        "    new_gyroX_n=gyroX_n[j]+gyroX_n_rand_norm[j][i]\n",
        "    new_gyroX_n_arr.append([new_gyroX_n])\n",
        "    new_gyroY_n=gyroY_n[j]+gyroY_n_rand_norm[j][i]\n",
        "    new_gyroY_n_arr.append([new_gyroY_n])\n",
        "    new_gyroZ_n=gyroZ_n[j]+gyroZ_n_rand_norm[j][i]\n",
        "    new_gyroZ_n_arr.append([new_gyroZ_n])\n",
        "\n",
        "new_acX_n_arr=np.array(new_acX_n_arr)\n",
        "new_acY_n_arr=np.array(new_acY_n_arr)\n",
        "new_acZ_n_arr=np.array(new_acZ_n_arr)\n",
        "new_gyroX_n_arr=np.array(new_gyroX_n_arr)\n",
        "new_gyroY_n_arr=np.array(new_gyroY_n_arr)\n",
        "new_gyroZ_n_arr=np.array(new_gyroZ_n_arr)\n",
        "\n",
        "new_n_total = np.concatenate((new_acX_n_arr,new_acY_n_arr,new_acZ_n_arr,\n",
        "                               new_gyroX_n_arr,new_gyroY_n_arr,new_gyroZ_n_arr),axis=1)\n",
        "\n",
        "#정규화\n",
        "from sklearn.preprocessing import MinMaxScaler\n",
        "\n",
        "transformer = MinMaxScaler()\n",
        "transformer.fit(new_n_total)\n",
        "new_n_total_norm = transformer.transform(new_n_total)\n",
        "print(new_n_total_norm.shape)\n",
        "\n",
        "data_n=[]\n",
        "for i in range(len(new_acX_n_arr)):\n",
        "  data_n.append(['n'])\n",
        "data_n = np.array(data_n)\n",
        "\n",
        "# print(data_y.shape)\n",
        "# print(new_acX_y_5_arr.shape)\n",
        "new_acX_n_arr=np.concatenate((new_acX_n_arr,data_n),axis=1)\n",
        "new_acY_n_arr=np.concatenate((new_acY_n_arr,data_n),axis=1)\n",
        "new_acZ_n_arr=np.concatenate((new_acZ_n_arr,data_n),axis=1)\n",
        "new_gyroX_n_arr=np.concatenate((new_gyroX_n_arr,data_n),axis=1)\n",
        "new_gyroY_n_arr=np.concatenate((new_gyroY_n_arr,data_n),axis=1)\n",
        "new_gyroZ_n_arr=np.concatenate((new_gyroZ_n_arr,data_n),axis=1)\n",
        "\n",
        "new_n_final = np.concatenate((new_n_total_norm,data_n),axis=1)\n",
        "\n",
        "print(new_acX_n_arr.shape)\n",
        "print(new_acY_n_arr.shape)\n",
        "print(new_acZ_n_arr.shape)\n",
        "print(new_gyroX_n_arr.shape)\n",
        "print(new_gyroY_n_arr.shape)\n",
        "print(new_gyroZ_n_arr.shape)\n",
        "\n",
        "print(new_n_final.shape)"
      ],
      "execution_count": 21,
      "outputs": [
        {
          "output_type": "stream",
          "name": "stdout",
          "text": [
            "(32500, 6)\n",
            "(32500, 2)\n",
            "(32500, 2)\n",
            "(32500, 2)\n",
            "(32500, 2)\n",
            "(32500, 2)\n",
            "(32500, 2)\n",
            "(32500, 7)\n"
          ]
        }
      ]
    },
    {
      "cell_type": "code",
      "metadata": {
        "id": "4nbe-b1PxWJ9"
      },
      "source": [
        "#20개 케이스 최종적으로 합치고 csv 파일로 저장\n",
        "#정규화한 데이터\n",
        "final_20_case = np.concatenate((new_y_final,new_n_final),axis=0)\n",
        "\n",
        "csv_final_20_case=pd.DataFrame(final_20_case)\n",
        "csv_final_20_case.columns = ['AcX', 'AcY','AcZ','GyroX','GyroY','GyroZ','class']\n",
        "#csv_final_data_norm\n",
        "csv_final_20_case.to_csv('/content/drive/MyDrive/캡스톤디자인2/Sendsordata/Dumbbellcurl_20case_genNorm_ver1.csv')"
      ],
      "execution_count": 22,
      "outputs": []
    }
  ]
}