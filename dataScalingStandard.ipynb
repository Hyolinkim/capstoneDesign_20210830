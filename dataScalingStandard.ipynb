{
  "nbformat": 4,
  "nbformat_minor": 0,
  "metadata": {
    "colab": {
      "name": "dataScalingStandard.ipynb",
      "provenance": [],
      "authorship_tag": "ABX9TyOYUEf9SwFB89hrYqpOvrlf",
      "include_colab_link": true
    },
    "kernelspec": {
      "name": "python3",
      "display_name": "Python 3"
    },
    "language_info": {
      "name": "python"
    }
  },
  "cells": [
    {
      "cell_type": "markdown",
      "metadata": {
        "id": "view-in-github",
        "colab_type": "text"
      },
      "source": [
        "<a href=\"https://colab.research.google.com/github/Hyolinkim/capstoneDesign_20210830/blob/main/dataScalingStandard.ipynb\" target=\"_parent\"><img src=\"https://colab.research.google.com/assets/colab-badge.svg\" alt=\"Open In Colab\"/></a>"
      ]
    },
    {
      "cell_type": "code",
      "metadata": {
        "colab": {
          "base_uri": "https://localhost:8080/"
        },
        "id": "IcctZIdvwUeR",
        "outputId": "f7a60aea-493e-4c0f-bcc8-cf48802a56f8"
      },
      "source": [
        "from google.colab import drive\n",
        "drive.mount('/content/drive')"
      ],
      "execution_count": 1,
      "outputs": [
        {
          "output_type": "stream",
          "name": "stdout",
          "text": [
            "Mounted at /content/drive\n"
          ]
        }
      ]
    },
    {
      "cell_type": "code",
      "metadata": {
        "id": "xkBobl_xwVPF"
      },
      "source": [
        "#normal case 100 exchange to scaling standard data\n",
        "for i in range(1,101):\n",
        "  filename='/content/drive/MyDrive/Sensorlog/raw/Normal/Normal_case' + str(i) + '.csv'\n",
        "\n",
        "  #io와 pandas 모듈 import\n",
        "  import io\n",
        "  import pandas as pd\n",
        "  import numpy as np\n",
        "  from pandas import Series, DataFrame\n",
        "  from numpy import nan as NA\n",
        "  import matplotlib.pyplot as plt\n",
        "\n",
        "  #pandas read_csv로 불러오기\n",
        "  data = pd.read_csv(filename)\n",
        "\n",
        "  #pandas read_csv로 불러오기\n",
        "  data = pd.read_csv(filename)\n",
        "  data.columns = ['SamplingTime','AcX', 'AcY','AcZ','GyroX','GyroY','GyroZ','-','-','-']\n",
        "\n",
        "  data=data.drop(['-'],axis=1)\n",
        "  #데이터 중에 가끔 마지막 데이터가 들어가지 않는 것이 있는데\n",
        "  #그거는 삭제해준다.\n",
        "  data=data.drop(data['SamplingTime'].size-1, axis=0)\n",
        "\n",
        "  data_df=data[['AcX', 'AcY','AcZ','GyroX','GyroY','GyroZ']]\n",
        "  data_st=data[['SamplingTime']]\n",
        "  #-----------------데이터 정리--------------------\n",
        "\n",
        "  #표준화\n",
        "  from sklearn.preprocessing import StandardScaler\n",
        "  transformer = StandardScaler()\n",
        "  transformer.fit(data_df)\n",
        "  data_df = transformer.transform(data_df)\n",
        "  #print(data_df)\n",
        "\n",
        "  #데이터 베열을 dataframe으로 변경\n",
        "  dataset=pd.DataFrame(data_df)\n",
        "  dataset\n",
        "\n",
        "  data_final=pd.concat([data_st,dataset], axis=1)\n",
        "  #데이터에 라벨 달아줌 normal = 0, warning1 = 1, warning2 = 2, warning3 = 3\n",
        "  data_final['label']=0\n",
        "\n",
        "  #스케일링 한 데이터를 csv파일로 저장\n",
        "  data_final.to_csv('/content/drive/MyDrive/Sensorlog/Standard/Normal/Normal_ScalingStandard_case' + str(i) + '.csv')"
      ],
      "execution_count": 3,
      "outputs": []
    },
    {
      "cell_type": "code",
      "metadata": {
        "id": "Fqp9MUcYyaE7"
      },
      "source": [
        "#Warning1 case 100 exchange to scaling standard data\n",
        "for i in range(1,101):\n",
        "  filename='/content/drive/MyDrive/Sensorlog/raw/Warning1/Warning1_case' + str(i) + '.csv'\n",
        "\n",
        "  #io와 pandas 모듈 import\n",
        "  import io\n",
        "  import pandas as pd\n",
        "  import numpy as np\n",
        "  from pandas import Series, DataFrame\n",
        "  from numpy import nan as NA\n",
        "  import matplotlib.pyplot as plt\n",
        "\n",
        "  #pandas read_csv로 불러오기\n",
        "  data = pd.read_csv(filename)\n",
        "\n",
        "  #pandas read_csv로 불러오기\n",
        "  data = pd.read_csv(filename)\n",
        "  data.columns = ['SamplingTime','AcX', 'AcY','AcZ','GyroX','GyroY','GyroZ','-','-','-']\n",
        "\n",
        "  data=data.drop(['-'],axis=1)\n",
        "  #데이터 중에 가끔 마지막 데이터가 들어가지 않는 것이 있는데\n",
        "  #그거는 삭제해준다.\n",
        "  data=data.drop(data['SamplingTime'].size-1, axis=0)\n",
        "\n",
        "  data_df=data[['AcX', 'AcY','AcZ','GyroX','GyroY','GyroZ']]\n",
        "  data_st=data[['SamplingTime']]\n",
        "  #-----------------데이터 정리--------------------\n",
        "\n",
        "  #표준화\n",
        "  from sklearn.preprocessing import StandardScaler\n",
        "  transformer = StandardScaler()\n",
        "  transformer.fit(data_df)\n",
        "  data_df = transformer.transform(data_df)\n",
        "  #print(data_df)\n",
        "\n",
        "  #데이터 베열을 dataframe으로 변경\n",
        "  dataset=pd.DataFrame(data_df)\n",
        "  dataset\n",
        "\n",
        "  data_final=pd.concat([data_st,dataset], axis=1)\n",
        "  #데이터에 라벨 달아줌 normal = 0, warning1 = 1, warning2 = 2, warning3 = 3\n",
        "  data_final['label']=1\n",
        "\n",
        "  #스케일링 한 데이터를 csv파일로 저장\n",
        "  data_final.to_csv('/content/drive/MyDrive/Sensorlog/Standard/Warning1/Warning1_ScalingStandard_case' + str(i) + '.csv')"
      ],
      "execution_count": 4,
      "outputs": []
    }
  ]
}