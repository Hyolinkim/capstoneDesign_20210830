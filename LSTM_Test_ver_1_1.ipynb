{
  "nbformat": 4,
  "nbformat_minor": 0,
  "metadata": {
    "colab": {
      "name": "LSTM_Test_ver.1.1.ipynb",
      "provenance": [],
      "collapsed_sections": [],
      "include_colab_link": true
    },
    "kernelspec": {
      "display_name": "Python 3",
      "language": "python",
      "name": "python3"
    },
    "language_info": {
      "codemirror_mode": {
        "name": "ipython",
        "version": 3
      },
      "file_extension": ".py",
      "mimetype": "text/x-python",
      "name": "python",
      "nbconvert_exporter": "python",
      "pygments_lexer": "ipython3",
      "version": "3.6.10"
    },
    "accelerator": "TPU"
  },
  "cells": [
    {
      "cell_type": "markdown",
      "metadata": {
        "id": "view-in-github",
        "colab_type": "text"
      },
      "source": [
        "<a href=\"https://colab.research.google.com/github/Hyolinkim/capstoneDesign_20210830/blob/main/LSTM_Test_ver_1_1.ipynb\" target=\"_parent\"><img src=\"https://colab.research.google.com/assets/colab-badge.svg\" alt=\"Open In Colab\"/></a>"
      ]
    },
    {
      "cell_type": "code",
      "metadata": {
        "id": "kCw8agORwzLa",
        "colab": {
          "base_uri": "https://localhost:8080/"
        },
        "outputId": "a2de4d9b-003a-464c-da2b-a769c21b731f"
      },
      "source": [
        "from google.colab import drive\n",
        "drive.mount('/content/drive')"
      ],
      "execution_count": 56,
      "outputs": [
        {
          "output_type": "stream",
          "name": "stdout",
          "text": [
            "Drive already mounted at /content/drive; to attempt to forcibly remount, call drive.mount(\"/content/drive\", force_remount=True).\n"
          ]
        }
      ]
    },
    {
      "cell_type": "code",
      "metadata": {
        "id": "pKozrelkw89u"
      },
      "source": [
        "filename='/content/drive/MyDrive/캡스톤디자인2/Sendsordata/Dumbbellcurl_rw_24_genNorm_ver1.csv'"
      ],
      "execution_count": 57,
      "outputs": []
    },
    {
      "cell_type": "code",
      "metadata": {
        "collapsed": true,
        "id": "mM5Nwt6jsEAg"
      },
      "source": [
        "import numpy as np\n",
        "import matplotlib.pyplot as plt\n",
        "import csv\n",
        "\n",
        "from sklearn.model_selection import train_test_split\n",
        "from keras.models import Sequential\n",
        "from keras.layers import Dense, LSTM, Dropout"
      ],
      "execution_count": 61,
      "outputs": []
    },
    {
      "cell_type": "code",
      "metadata": {
        "colab": {
          "base_uri": "https://localhost:8080/"
        },
        "id": "L6vHo5mz1mAV",
        "outputId": "cd235338-fd14-41b1-add9-328f7d9efe3c"
      },
      "source": [
        "## Data Load\n",
        "f = open(filename, 'r', encoding='utf-8')\n",
        "rdr = csv.reader(f)\n",
        "\n",
        "source =[]\n",
        "for index,val in enumerate(rdr):\n",
        "    if index > 0:\n",
        "        source.append(val)\n",
        "\n",
        "source = np.array(source)\n",
        "print('Source Shape is',source.shape)\n",
        "\n",
        "x_data = source[:,:6]\n",
        "x_data=np.asfarray(x_data,float)\n",
        "y_data_str = source[:,6]\n",
        "y_data = []"
      ],
      "execution_count": 62,
      "outputs": [
        {
          "output_type": "stream",
          "name": "stdout",
          "text": [
            "Source Shape is (1058, 8)\n"
          ]
        }
      ]
    },
    {
      "cell_type": "code",
      "metadata": {
        "colab": {
          "base_uri": "https://localhost:8080/"
        },
        "id": "4XaVGbxpsEAp",
        "outputId": "509386f8-85be-44b1-cc54-68b5fde01492"
      },
      "source": [
        "\n",
        "for i in range(len(y_data_str)):\n",
        "    temp = y_data_str[i]\n",
        "    ## 'y' Label : 1, 'n' Label : 0, \n",
        "    if temp == 'y':\n",
        "        tmp = 1\n",
        "    else:\n",
        "        tmp = 0\n",
        "\n",
        "    y_data.append(tmp)\n",
        "y_data = np.array(y_data)\n",
        "print('x_data Shape is',x_data.shape)\n",
        "print('y_data Shape is',y_data.shape)\n",
        "\n",
        "## 데이터 Split / LSTM에 입력하기 위한 Data Shape 조정\n",
        "x_train,x_test,y_train,y_test = train_test_split(x_data, y_data, test_size =0.3, shuffle=True)\n",
        "x_train = x_train.reshape((x_train.shape[0], x_train.shape[1], 1))\n",
        "x_test = x_test.reshape((x_test.shape[0], x_test.shape[1], 1))\n",
        "\n",
        "print('x_train Shape is',x_train.shape, '// x_test Shape is',x_test.shape)\n",
        "print('y_train Shape is',y_train.shape, '// y_test Shape is',y_test.shape,'\\n')\n",
        "\n",
        "## 모델 구성\n",
        "model = Sequential()\n",
        "model.add(LSTM(10, activation = 'relu', input_shape=(6,1)))\n",
        "model.add(Dropout(0.5)) # 드롭아웃 추가. 비율은 50%\n",
        "model.add(Dense(5))\n",
        "model.add(Dropout(0.5)) # 드롭아웃 추가. 비율은 50%\n",
        "model.add(Dense(1))\n",
        "model.summary()"
      ],
      "execution_count": 63,
      "outputs": [
        {
          "output_type": "stream",
          "name": "stdout",
          "text": [
            "x_data Shape is (1058, 6)\n",
            "y_data Shape is (1058,)\n",
            "x_train Shape is (740, 6, 1) // x_test Shape is (318, 6, 1)\n",
            "y_train Shape is (740,) // y_test Shape is (318,) \n",
            "\n",
            "Model: \"sequential_8\"\n",
            "_________________________________________________________________\n",
            "Layer (type)                 Output Shape              Param #   \n",
            "=================================================================\n",
            "lstm_8 (LSTM)                (None, 10)                480       \n",
            "_________________________________________________________________\n",
            "dropout (Dropout)            (None, 10)                0         \n",
            "_________________________________________________________________\n",
            "dense_14 (Dense)             (None, 5)                 55        \n",
            "_________________________________________________________________\n",
            "dropout_1 (Dropout)          (None, 5)                 0         \n",
            "_________________________________________________________________\n",
            "dense_15 (Dense)             (None, 1)                 6         \n",
            "=================================================================\n",
            "Total params: 541\n",
            "Trainable params: 541\n",
            "Non-trainable params: 0\n",
            "_________________________________________________________________\n"
          ]
        }
      ]
    },
    {
      "cell_type": "code",
      "metadata": {
        "colab": {
          "base_uri": "https://localhost:8080/"
        },
        "id": "TfPs2Mo2sEAt",
        "outputId": "969c034e-cd7c-4c9f-ebb0-6280fd793eb0"
      },
      "source": [
        "## 모델 학습\n",
        "model.compile(loss='binary_crossentropy', optimizer='adam', metrics=['accuracy'])\n",
        "hist = model.fit(x_train, y_train, epochs=10, batch_size=1)"
      ],
      "execution_count": 64,
      "outputs": [
        {
          "output_type": "stream",
          "name": "stdout",
          "text": [
            "Epoch 1/10\n",
            "740/740 [==============================] - 3s 3ms/step - loss: 2.2202 - accuracy: 0.8405\n",
            "Epoch 2/10\n",
            "740/740 [==============================] - 2s 3ms/step - loss: 0.1660 - accuracy: 0.9784\n",
            "Epoch 3/10\n",
            "740/740 [==============================] - 2s 3ms/step - loss: 0.0641 - accuracy: 0.9946\n",
            "Epoch 4/10\n",
            "740/740 [==============================] - 2s 3ms/step - loss: 0.0647 - accuracy: 0.9946\n",
            "Epoch 5/10\n",
            "740/740 [==============================] - 2s 3ms/step - loss: 0.0437 - accuracy: 0.9959\n",
            "Epoch 6/10\n",
            "740/740 [==============================] - 2s 3ms/step - loss: 0.0231 - accuracy: 0.9973\n",
            "Epoch 7/10\n",
            "740/740 [==============================] - 2s 3ms/step - loss: 0.0228 - accuracy: 0.9973\n",
            "Epoch 8/10\n",
            "740/740 [==============================] - 2s 3ms/step - loss: 0.0206 - accuracy: 0.9986\n",
            "Epoch 9/10\n",
            "740/740 [==============================] - 2s 3ms/step - loss: 0.0412 - accuracy: 0.9973\n",
            "Epoch 10/10\n",
            "740/740 [==============================] - 2s 3ms/step - loss: 0.0000e+00 - accuracy: 1.0000\n"
          ]
        }
      ]
    },
    {
      "cell_type": "code",
      "metadata": {
        "id": "gr0IvHahsEAv",
        "colab": {
          "base_uri": "https://localhost:8080/",
          "height": 336
        },
        "outputId": "471a0c5a-192c-4645-8a2b-c255a5b15051"
      },
      "source": [
        "## 모델 테스트\n",
        "loss_and_metrics = model.evaluate(x_test, y_test, batch_size=1)\n",
        "tmpsum = loss_and_metrics[0]+loss_and_metrics[1]\n",
        "prediction = [loss_and_metrics[0]/tmpsum,loss_and_metrics[1]/tmpsum]\n",
        "\n",
        "## 가시화\n",
        "fig, loss_ax = plt.subplots()\n",
        "acc_ax = loss_ax.twinx()\n",
        "loss_ax.plot(hist.history['loss'], 'y', label='train loss')\n",
        "loss_ax.set_ylim([-0.2, 1.2])\n",
        "acc_ax.plot(hist.history['accuracy'], 'b', label='train acc')\n",
        "acc_ax.set_ylim([-0.2, 1.2])\n",
        "\n",
        "loss_ax.set_xlabel('epoch')\n",
        "loss_ax.set_ylabel('loss')\n",
        "acc_ax.set_ylabel('accuray')\n",
        "loss_ax.legend(loc='upper left')\n",
        "acc_ax.legend(loc='lower left')\n",
        "plt.show()\n",
        "\n",
        "print('## evaluation loss and_metrics ##')\n",
        "print(prediction)"
      ],
      "execution_count": 65,
      "outputs": [
        {
          "output_type": "stream",
          "name": "stdout",
          "text": [
            "318/318 [==============================] - 1s 2ms/step - loss: 0.0000e+00 - accuracy: 1.0000\n"
          ]
        },
        {
          "output_type": "display_data",
          "data": {
            "image/png": "[encoded data removed]",
            "text/plain": [
              "<Figure size 432x288 with 2 Axes>"
            ]
          },
          "metadata": {
            "needs_background": "light"
          }
        },
        {
          "output_type": "stream",
          "name": "stdout",
          "text": [
            "## evaluation loss and_metrics ##\n",
            "[0.0, 1.0]\n"
          ]
        }
      ]
    }
  ]
}