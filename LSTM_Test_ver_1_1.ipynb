{
  "nbformat": 4,
  "nbformat_minor": 0,
  "metadata": {
    "colab": {
      "name": "LSTM_Test_ver.1.1.ipynb",
      "provenance": [],
      "collapsed_sections": [],
      "include_colab_link": true
    },
    "kernelspec": {
      "display_name": "Python 3",
      "language": "python",
      "name": "python3"
    },
    "language_info": {
      "codemirror_mode": {
        "name": "ipython",
        "version": 3
      },
      "file_extension": ".py",
      "mimetype": "text/x-python",
      "name": "python",
      "nbconvert_exporter": "python",
      "pygments_lexer": "ipython3",
      "version": "3.6.10"
    },
    "accelerator": "GPU"
  },
  "cells": [
    {
      "cell_type": "markdown",
      "metadata": {
        "id": "view-in-github",
        "colab_type": "text"
      },
      "source": [
        "<a href=\"https://colab.research.google.com/github/Hyolinkim/capstoneDesign_20210830/blob/main/LSTM_Test_ver_1_1.ipynb\" target=\"_parent\"><img src=\"https://colab.research.google.com/assets/colab-badge.svg\" alt=\"Open In Colab\"/></a>"
      ]
    },
    {
      "cell_type": "code",
      "metadata": {
        "id": "kCw8agORwzLa",
        "colab": {
          "base_uri": "https://localhost:8080/"
        },
        "outputId": "3cd17c8e-dccd-4b46-eac1-6c6ba47e2558"
      },
      "source": [
        "from google.colab import drive\n",
        "drive.mount('/content/drive')"
      ],
      "execution_count": 1,
      "outputs": [
        {
          "output_type": "stream",
          "name": "stdout",
          "text": [
            "Mounted at /content/drive\n"
          ]
        }
      ]
    },
    {
      "cell_type": "code",
      "metadata": {
        "id": "pKozrelkw89u"
      },
      "source": [
        "filename='/content/drive/MyDrive/캡스톤디자인2/Sendsordata/Dumbbellcurl_50case_genNorm_ver2.csv'"
      ],
      "execution_count": 13,
      "outputs": []
    },
    {
      "cell_type": "code",
      "metadata": {
        "collapsed": true,
        "id": "mM5Nwt6jsEAg"
      },
      "source": [
        "import numpy as np\n",
        "import matplotlib.pyplot as plt\n",
        "import csv\n",
        "\n",
        "from sklearn.model_selection import train_test_split\n",
        "from keras.models import Sequential\n",
        "from keras.layers import Dense, LSTM, Dropout"
      ],
      "execution_count": 14,
      "outputs": []
    },
    {
      "cell_type": "code",
      "metadata": {
        "colab": {
          "base_uri": "https://localhost:8080/"
        },
        "id": "L6vHo5mz1mAV",
        "outputId": "ffc2a0bb-b6ac-42a5-ec93-c47786a38f2c"
      },
      "source": [
        "## Data Load\n",
        "f = open(filename, 'r', encoding='utf-8')\n",
        "rdr = csv.reader(f)\n",
        "\n",
        "source =[]\n",
        "for index,val in enumerate(rdr):\n",
        "    if index > 0:\n",
        "        source.append(val)\n",
        "\n",
        "source = np.array(source)\n",
        "print('Source Shape is',source.shape)\n",
        "\n",
        "x_data = source[:,:6]\n",
        "x_data=np.asfarray(x_data,float)\n",
        "y_data_str = source[:,6]\n",
        "y_data = []"
      ],
      "execution_count": 15,
      "outputs": [
        {
          "output_type": "stream",
          "name": "stdout",
          "text": [
            "Source Shape is (52900, 7)\n"
          ]
        }
      ]
    },
    {
      "cell_type": "code",
      "metadata": {
        "colab": {
          "base_uri": "https://localhost:8080/",
          "height": 241
        },
        "id": "4XaVGbxpsEAp",
        "outputId": "eaa6d0af-6c62-4664-fa63-3d9636ea573b"
      },
      "source": [
        "\n",
        "for i in range(len(y_data_str)):\n",
        "    temp = y_data_str[i]\n",
        "    ## 'y' Label : 1, 'n' Label : 0, \n",
        "    if temp == 'y':\n",
        "        tmp = 1\n",
        "    else:\n",
        "        tmp = 0\n",
        "\n",
        "    y_data.append(tmp)\n",
        "y_data = np.array(y_data)\n",
        "print('x_data Shape is',x_data.shape)\n",
        "print('y_data Shape is',y_data.shape)\n",
        "\n",
        "## 데이터 Split / LSTM에 입력하기 위한 Data Shape 조정\n",
        "x_train,x_test,y_train,y_test = train_test_split(x_data, y_data, test_size =0.3, shuffle=True)\n",
        "x_train = x_train.reshape((x_train.shape[0], x_train.shape[1], 1))\n",
        "x_test = x_test.reshape((x_test.shape[0], x_test.shape[1], 1))\n",
        "\n",
        "print('x_train Shape is',x_train.shape, '// x_test Shape is',x_test.shape)\n",
        "print('y_train Shape is',y_train.shape, '// y_test Shape is',y_test.shape,'\\n')\n",
        "\n",
        "## 모델 구성\n",
        "model = Sequential()\n",
        "model.add(LSTM(10, activation = 'relu', input_shape=(6,1)))\n",
        "#model.add(Dropout(0.5)) # 드롭아웃 추가. 비율은 50%\n",
        "model.add(Dense(5))\n",
        "#model.add(Dropout(0.5)) # 드롭아웃 추가. 비율은 50%\n",
        "model.add(Dense(1))\n",
        "model.summary()"
      ],
      "execution_count": 12,
      "outputs": [
        {
          "output_type": "error",
          "ename": "AttributeError",
          "evalue": "ignored",
          "traceback": [
            "\u001b[0;31m---------------------------------------------------------------------------\u001b[0m",
            "\u001b[0;31mAttributeError\u001b[0m                            Traceback (most recent call last)",
            "\u001b[0;32m<ipython-input-12-113f9e6f5b59>\u001b[0m in \u001b[0;36m<module>\u001b[0;34m()\u001b[0m\n\u001b[1;32m      8\u001b[0m         \u001b[0mtmp\u001b[0m \u001b[0;34m=\u001b[0m \u001b[0;36m0\u001b[0m\u001b[0;34m\u001b[0m\u001b[0;34m\u001b[0m\u001b[0m\n\u001b[1;32m      9\u001b[0m \u001b[0;34m\u001b[0m\u001b[0m\n\u001b[0;32m---> 10\u001b[0;31m     \u001b[0my_data\u001b[0m\u001b[0;34m.\u001b[0m\u001b[0mappend\u001b[0m\u001b[0;34m(\u001b[0m\u001b[0mtmp\u001b[0m\u001b[0;34m)\u001b[0m\u001b[0;34m\u001b[0m\u001b[0;34m\u001b[0m\u001b[0m\n\u001b[0m\u001b[1;32m     11\u001b[0m \u001b[0my_data\u001b[0m \u001b[0;34m=\u001b[0m \u001b[0mnp\u001b[0m\u001b[0;34m.\u001b[0m\u001b[0marray\u001b[0m\u001b[0;34m(\u001b[0m\u001b[0my_data\u001b[0m\u001b[0;34m)\u001b[0m\u001b[0;34m\u001b[0m\u001b[0;34m\u001b[0m\u001b[0m\n\u001b[1;32m     12\u001b[0m \u001b[0mprint\u001b[0m\u001b[0;34m(\u001b[0m\u001b[0;34m'x_data Shape is'\u001b[0m\u001b[0;34m,\u001b[0m\u001b[0mx_data\u001b[0m\u001b[0;34m.\u001b[0m\u001b[0mshape\u001b[0m\u001b[0;34m)\u001b[0m\u001b[0;34m\u001b[0m\u001b[0;34m\u001b[0m\u001b[0m\n",
            "\u001b[0;31mAttributeError\u001b[0m: 'numpy.ndarray' object has no attribute 'append'"
          ]
        }
      ]
    },
    {
      "cell_type": "code",
      "metadata": {
        "colab": {
          "base_uri": "https://localhost:8080/"
        },
        "id": "TfPs2Mo2sEAt",
        "outputId": "9cc36e58-06a3-4651-9246-bbd963e809c4"
      },
      "source": [
        "## 모델 학습\n",
        "model.compile(loss='binary_crossentropy', optimizer='adam', metrics=['accuracy'])\n",
        "hist = model.fit(x_train, y_train, epochs=10, batch_size=1)"
      ],
      "execution_count": 10,
      "outputs": [
        {
          "output_type": "stream",
          "name": "stdout",
          "text": [
            "Epoch 1/10\n",
            "37030/37030 [==============================] - 288s 8ms/step - loss: 0.7666 - accuracy: 0.5060\n",
            "Epoch 2/10\n",
            "37030/37030 [==============================] - 286s 8ms/step - loss: 0.6936 - accuracy: 0.5045\n",
            "Epoch 3/10\n",
            "37030/37030 [==============================] - 286s 8ms/step - loss: 0.6935 - accuracy: 0.5100\n",
            "Epoch 4/10\n",
            "37030/37030 [==============================] - 291s 8ms/step - loss: 0.6935 - accuracy: 0.5068\n",
            "Epoch 5/10\n",
            "37030/37030 [==============================] - 291s 8ms/step - loss: 0.6936 - accuracy: 0.5051\n",
            "Epoch 6/10\n",
            "37030/37030 [==============================] - 290s 8ms/step - loss: 0.6935 - accuracy: 0.5073\n",
            "Epoch 7/10\n",
            "37030/37030 [==============================] - 288s 8ms/step - loss: 0.6935 - accuracy: 0.5044\n",
            "Epoch 8/10\n",
            "37030/37030 [==============================] - 290s 8ms/step - loss: 0.6936 - accuracy: 0.5049\n",
            "Epoch 9/10\n",
            "37030/37030 [==============================] - 291s 8ms/step - loss: 0.6936 - accuracy: 0.5054\n",
            "Epoch 10/10\n",
            "37030/37030 [==============================] - 290s 8ms/step - loss: 0.6935 - accuracy: 0.5083\n"
          ]
        }
      ]
    },
    {
      "cell_type": "code",
      "metadata": {
        "id": "gr0IvHahsEAv",
        "colab": {
          "base_uri": "https://localhost:8080/",
          "height": 336
        },
        "outputId": "ec5cff52-9975-4af7-decd-651983aa0704"
      },
      "source": [
        "## 모델 테스트\n",
        "loss_and_metrics = model.evaluate(x_test, y_test, batch_size=1)\n",
        "tmpsum = loss_and_metrics[0]+loss_and_metrics[1]\n",
        "prediction = [loss_and_metrics[0]/tmpsum,loss_and_metrics[1]/tmpsum]\n",
        "\n",
        "## 가시화\n",
        "fig, loss_ax = plt.subplots()\n",
        "acc_ax = loss_ax.twinx()\n",
        "loss_ax.plot(hist.history['loss'], 'y', label='train loss')\n",
        "loss_ax.set_ylim([-0.2, 1.2])\n",
        "acc_ax.plot(hist.history['accuracy'], 'b', label='train acc')\n",
        "acc_ax.set_ylim([-0.2, 1.2])\n",
        "\n",
        "loss_ax.set_xlabel('epoch')\n",
        "loss_ax.set_ylabel('loss')\n",
        "acc_ax.set_ylabel('accuray')\n",
        "loss_ax.legend(loc='upper left')\n",
        "acc_ax.legend(loc='lower left')\n",
        "plt.show()\n",
        "\n",
        "print('## evaluation loss and_metrics ##')\n",
        "print(prediction)"
      ],
      "execution_count": 11,
      "outputs": [
        {
          "output_type": "stream",
          "name": "stdout",
          "text": [
            "15870/15870 [==============================] - 48s 3ms/step - loss: 0.6930 - accuracy: 0.5122\n"
          ]
        },
        {
          "output_type": "display_data",
          "data": {
            "image/png": "[encoded data removed]",
            "text/plain": [
              "<Figure size 432x288 with 2 Axes>"
            ]
          },
          "metadata": {
            "needs_background": "light"
          }
        },
        {
          "output_type": "stream",
          "name": "stdout",
          "text": [
            "## evaluation loss and_metrics ##\n",
            "[0.5749970598891432, 0.42500294011085676]\n"
          ]
        }
      ]
    }
  ]
}