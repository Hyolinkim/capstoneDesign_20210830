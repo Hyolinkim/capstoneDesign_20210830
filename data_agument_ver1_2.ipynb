{
  "nbformat": 4,
  "nbformat_minor": 0,
  "metadata": {
    "colab": {
      "name": "data_agument_ver1.2.ipynb",
      "provenance": [],
      "collapsed_sections": [],
      "authorship_tag": "ABX9TyMk9m31kqzzFcZds5Y0Ik0G",
      "include_colab_link": true
    },
    "kernelspec": {
      "name": "python3",
      "display_name": "Python 3"
    },
    "language_info": {
      "name": "python"
    }
  },
  "cells": [
    {
      "cell_type": "markdown",
      "metadata": {
        "id": "view-in-github",
        "colab_type": "text"
      },
      "source": [
        "<a href=\"https://colab.research.google.com/github/Hyolinkim/capstoneDesign_20210830/blob/main/data_agument_ver1_2.ipynb\" target=\"_parent\"><img src=\"https://colab.research.google.com/assets/colab-badge.svg\" alt=\"Open In Colab\"/></a>"
      ]
    },
    {
      "cell_type": "code",
      "metadata": {
        "colab": {
          "base_uri": "https://localhost:8080/"
        },
        "id": "0FDyMVU8SFD0",
        "outputId": "0915a969-f0fd-478f-d3df-6eb3bbe69493"
      },
      "source": [
        "from google.colab import drive\n",
        "drive.mount('/content/drive')"
      ],
      "execution_count": 1,
      "outputs": [
        {
          "output_type": "stream",
          "name": "stdout",
          "text": [
            "Mounted at /content/drive\n"
          ]
        }
      ]
    },
    {
      "cell_type": "code",
      "metadata": {
        "id": "iVyVmYaKSMsr"
      },
      "source": [
        "filename='/content/drive/MyDrive/캡스톤디자인2/Sendsordata/Dumbbellcurl_rw_24_ver2.csv'"
      ],
      "execution_count": 2,
      "outputs": []
    },
    {
      "cell_type": "code",
      "metadata": {
        "id": "jE5lk5exSND1"
      },
      "source": [
        "#io와 pandas 모듈 import\n",
        "import io\n",
        "import pandas as pd\n",
        "import numpy as np\n",
        "from pandas import Series, DataFrame\n",
        "from numpy import nan as NA\n",
        "import matplotlib.pyplot as plt"
      ],
      "execution_count": 3,
      "outputs": []
    },
    {
      "cell_type": "code",
      "metadata": {
        "id": "OdlMZ3hUSO0v"
      },
      "source": [
        "#pandas read_csv로 불러오기\n",
        "data = pd.read_csv(filename)\n",
        "data.columns = ['AcX', 'AcY','AcZ','GyroX','GyroY','GyroZ','class','-','-']"
      ],
      "execution_count": 4,
      "outputs": []
    },
    {
      "cell_type": "code",
      "metadata": {
        "colab": {
          "base_uri": "https://localhost:8080/",
          "height": 418
        },
        "id": "Wmgy9AzUSRFg",
        "outputId": "12a59a69-b88a-4898-b999-4eccb3fa1228"
      },
      "source": [
        "data=data.dropna(axis=1)\n",
        "data"
      ],
      "execution_count": 5,
      "outputs": [
        {
          "output_type": "execute_result",
          "data": {
            "text/html": [
              "<div>\n",
              "<style scoped>\n",
              "    .dataframe tbody tr th:only-of-type {\n",
              "        vertical-align: middle;\n",
              "    }\n",
              "\n",
              "    .dataframe tbody tr th {\n",
              "        vertical-align: top;\n",
              "    }\n",
              "\n",
              "    .dataframe thead th {\n",
              "        text-align: right;\n",
              "    }\n",
              "</style>\n",
              "<table border=\"1\" class=\"dataframe\">\n",
              "  <thead>\n",
              "    <tr style=\"text-align: right;\">\n",
              "      <th></th>\n",
              "      <th>AcX</th>\n",
              "      <th>AcY</th>\n",
              "      <th>AcZ</th>\n",
              "      <th>GyroX</th>\n",
              "      <th>GyroY</th>\n",
              "      <th>GyroZ</th>\n",
              "      <th>class</th>\n",
              "    </tr>\n",
              "  </thead>\n",
              "  <tbody>\n",
              "    <tr>\n",
              "      <th>0</th>\n",
              "      <td>2.319532</td>\n",
              "      <td>-1.001225</td>\n",
              "      <td>-10.185682</td>\n",
              "      <td>-0.087555</td>\n",
              "      <td>-0.333392</td>\n",
              "      <td>-0.135213</td>\n",
              "      <td>y</td>\n",
              "    </tr>\n",
              "    <tr>\n",
              "      <th>1</th>\n",
              "      <td>2.384326</td>\n",
              "      <td>-1.252616</td>\n",
              "      <td>-9.020903</td>\n",
              "      <td>0.155697</td>\n",
              "      <td>-0.109497</td>\n",
              "      <td>0.063928</td>\n",
              "      <td>y</td>\n",
              "    </tr>\n",
              "    <tr>\n",
              "      <th>2</th>\n",
              "      <td>2.544887</td>\n",
              "      <td>-1.409886</td>\n",
              "      <td>-8.989180</td>\n",
              "      <td>-0.071941</td>\n",
              "      <td>0.079720</td>\n",
              "      <td>0.109579</td>\n",
              "      <td>y</td>\n",
              "    </tr>\n",
              "    <tr>\n",
              "      <th>3</th>\n",
              "      <td>2.283619</td>\n",
              "      <td>-1.338359</td>\n",
              "      <td>-8.397962</td>\n",
              "      <td>-0.182164</td>\n",
              "      <td>-0.000434</td>\n",
              "      <td>-0.063802</td>\n",
              "      <td>y</td>\n",
              "    </tr>\n",
              "    <tr>\n",
              "      <th>4</th>\n",
              "      <td>2.085200</td>\n",
              "      <td>-1.446098</td>\n",
              "      <td>-7.507169</td>\n",
              "      <td>-0.414016</td>\n",
              "      <td>-0.161494</td>\n",
              "      <td>-0.195836</td>\n",
              "      <td>y</td>\n",
              "    </tr>\n",
              "    <tr>\n",
              "      <th>...</th>\n",
              "      <td>...</td>\n",
              "      <td>...</td>\n",
              "      <td>...</td>\n",
              "      <td>...</td>\n",
              "      <td>...</td>\n",
              "      <td>...</td>\n",
              "      <td>...</td>\n",
              "    </tr>\n",
              "    <tr>\n",
              "      <th>3168</th>\n",
              "      <td>2.875586</td>\n",
              "      <td>-0.300772</td>\n",
              "      <td>-10.684873</td>\n",
              "      <td>-0.179555</td>\n",
              "      <td>0.312147</td>\n",
              "      <td>-0.034756</td>\n",
              "      <td>n</td>\n",
              "    </tr>\n",
              "    <tr>\n",
              "      <th>3169</th>\n",
              "      <td>2.153135</td>\n",
              "      <td>-0.055516</td>\n",
              "      <td>-10.439168</td>\n",
              "      <td>-0.229176</td>\n",
              "      <td>0.104501</td>\n",
              "      <td>0.014532</td>\n",
              "      <td>n</td>\n",
              "    </tr>\n",
              "    <tr>\n",
              "      <th>3170</th>\n",
              "      <td>3.460519</td>\n",
              "      <td>0.132579</td>\n",
              "      <td>-9.881618</td>\n",
              "      <td>-0.048684</td>\n",
              "      <td>-0.468456</td>\n",
              "      <td>0.072745</td>\n",
              "      <td>n</td>\n",
              "    </tr>\n",
              "    <tr>\n",
              "      <th>3171</th>\n",
              "      <td>1.737143</td>\n",
              "      <td>0.361375</td>\n",
              "      <td>-11.148151</td>\n",
              "      <td>-0.132454</td>\n",
              "      <td>0.149878</td>\n",
              "      <td>0.062209</td>\n",
              "      <td>n</td>\n",
              "    </tr>\n",
              "    <tr>\n",
              "      <th>3172</th>\n",
              "      <td>1.854608</td>\n",
              "      <td>0.492158</td>\n",
              "      <td>-10.319907</td>\n",
              "      <td>0.190387</td>\n",
              "      <td>0.302965</td>\n",
              "      <td>-0.014723</td>\n",
              "      <td>n</td>\n",
              "    </tr>\n",
              "  </tbody>\n",
              "</table>\n",
              "<p>3173 rows × 7 columns</p>\n",
              "</div>"
            ],
            "text/plain": [
              "           AcX       AcY        AcZ     GyroX     GyroY     GyroZ class\n",
              "0     2.319532 -1.001225 -10.185682 -0.087555 -0.333392 -0.135213     y\n",
              "1     2.384326 -1.252616  -9.020903  0.155697 -0.109497  0.063928     y\n",
              "2     2.544887 -1.409886  -8.989180 -0.071941  0.079720  0.109579     y\n",
              "3     2.283619 -1.338359  -8.397962 -0.182164 -0.000434 -0.063802     y\n",
              "4     2.085200 -1.446098  -7.507169 -0.414016 -0.161494 -0.195836     y\n",
              "...        ...       ...        ...       ...       ...       ...   ...\n",
              "3168  2.875586 -0.300772 -10.684873 -0.179555  0.312147 -0.034756     n\n",
              "3169  2.153135 -0.055516 -10.439168 -0.229176  0.104501  0.014532     n\n",
              "3170  3.460519  0.132579  -9.881618 -0.048684 -0.468456  0.072745     n\n",
              "3171  1.737143  0.361375 -11.148151 -0.132454  0.149878  0.062209     n\n",
              "3172  1.854608  0.492158 -10.319907  0.190387  0.302965 -0.014723     n\n",
              "\n",
              "[3173 rows x 7 columns]"
            ]
          },
          "metadata": {},
          "execution_count": 5
        }
      ]
    },
    {
      "cell_type": "code",
      "metadata": {
        "colab": {
          "base_uri": "https://localhost:8080/"
        },
        "id": "s7CL73gSSSlQ",
        "outputId": "0a8c52aa-a389-4f92-9626-006634af5f5b"
      },
      "source": [
        "#가속도x\n",
        "acX_y = []\n",
        "acX_n = []\n",
        "for i in range(len(data['class'])):\n",
        "  yorn=data['class'][i]\n",
        "  if yorn == 'y':\n",
        "    acX_y.append(data['AcX'][i])\n",
        "  else:\n",
        "    acX_n.append(data['AcX'][i])\n",
        "acX_y=np.array(acX_y)\n",
        "acX_n=np.array(acX_n)\n",
        "print(acX_y.shape)\n",
        "print(acX_n.shape)"
      ],
      "execution_count": 8,
      "outputs": [
        {
          "output_type": "stream",
          "name": "stdout",
          "text": [
            "(1548,)\n",
            "(1625,)\n"
          ]
        }
      ]
    },
    {
      "cell_type": "code",
      "metadata": {
        "colab": {
          "base_uri": "https://localhost:8080/"
        },
        "id": "pE5noJ5OGvr1",
        "outputId": "dd784e2b-02ef-4628-db93-d6a81064437b"
      },
      "source": [
        "#가속도y\n",
        "acY_y = []\n",
        "acY_n = []\n",
        "for i in range(len(data['class'])):\n",
        "  yorn=data['class'][i]\n",
        "  if yorn == 'y':\n",
        "    acY_y.append(data['AcY'][i])\n",
        "  else:\n",
        "    acY_n.append(data['AcY'][i])\n",
        "acY_y=np.array(acY_y)\n",
        "acY_n=np.array(acY_n)\n",
        "print(acY_y.shape)\n",
        "print(acY_n.shape)"
      ],
      "execution_count": 10,
      "outputs": [
        {
          "output_type": "stream",
          "name": "stdout",
          "text": [
            "(1548,)\n",
            "(1625,)\n"
          ]
        }
      ]
    },
    {
      "cell_type": "code",
      "metadata": {
        "colab": {
          "base_uri": "https://localhost:8080/"
        },
        "id": "01pnQ65xG7nt",
        "outputId": "3c407571-33fc-4923-badb-e382d441977f"
      },
      "source": [
        "#가속도z\n",
        "acZ_y = []\n",
        "acZ_n = []\n",
        "for i in range(len(data['class'])):\n",
        "  yorn = data['class'][i]\n",
        "  if yorn=='y':\n",
        "    acZ_y.append(data['AcZ'][i])\n",
        "  else:\n",
        "    acZ_n.append(data['AcZ'][i])\n",
        "acZ_y=np.array(acZ_y)\n",
        "acZ_n=np.array(acZ_n)\n",
        "print(acZ_y.shape)\n",
        "print(acZ_n.shape)"
      ],
      "execution_count": 11,
      "outputs": [
        {
          "output_type": "stream",
          "name": "stdout",
          "text": [
            "(1548,)\n",
            "(1625,)\n"
          ]
        }
      ]
    },
    {
      "cell_type": "code",
      "metadata": {
        "colab": {
          "base_uri": "https://localhost:8080/"
        },
        "id": "QQtoWCxzHhnb",
        "outputId": "61862c9e-b4df-402f-9595-571f4a852075"
      },
      "source": [
        "#자이로\n",
        "gyroX_y = []\n",
        "gyroX_n = []\n",
        "gyroY_y = []\n",
        "gyroY_n = []\n",
        "gyroZ_y = []\n",
        "gyroZ_n = []\n",
        "for i in range(len(data['class'])):\n",
        "  yorn = data['class'][i]\n",
        "  if yorn=='y':\n",
        "    gyroX_y.append(data['GyroX'][i])\n",
        "    gyroY_y.append(data['GyroY'][i])\n",
        "    gyroZ_y.append(data['GyroZ'][i])\n",
        "  else:\n",
        "    gyroX_n.append(data['GyroX'][i])\n",
        "    gyroY_n.append(data['GyroY'][i])\n",
        "    gyroZ_n.append(data['GyroZ'][i])\n",
        "gyroX_y=np.array(gyroX_y)\n",
        "gyroX_n=np.array(gyroX_n)\n",
        "gyroY_y=np.array(gyroY_y)\n",
        "gyroY_n=np.array(gyroY_n)\n",
        "gyroZ_y=np.array(gyroZ_y)\n",
        "gyroZ_n=np.array(gyroZ_n)\n",
        "print(gyroX_y.shape)\n",
        "print(gyroX_n.shape)\n",
        "print(gyroY_y.shape)\n",
        "print(gyroY_n.shape)\n",
        "print(gyroZ_y.shape)\n",
        "print(gyroZ_n.shape)"
      ],
      "execution_count": 13,
      "outputs": [
        {
          "output_type": "stream",
          "name": "stdout",
          "text": [
            "(1548,)\n",
            "(1625,)\n",
            "(1548,)\n",
            "(1625,)\n",
            "(1548,)\n",
            "(1625,)\n"
          ]
        }
      ]
    },
    {
      "cell_type": "code",
      "metadata": {
        "colab": {
          "base_uri": "https://localhost:8080/"
        },
        "id": "vTJUl3KMSUnj",
        "outputId": "78fbb7d4-7b9c-4cfd-a603-0849cb0d4e86"
      },
      "source": [
        "#바른자세\n",
        "dt = 3\n",
        "time_y = np.arange(0,len(acX_y), dt)\n",
        "print(time_y.shape)"
      ],
      "execution_count": 17,
      "outputs": [
        {
          "output_type": "stream",
          "name": "stdout",
          "text": [
            "(516,)\n"
          ]
        }
      ]
    },
    {
      "cell_type": "code",
      "metadata": {
        "colab": {
          "base_uri": "https://localhost:8080/"
        },
        "id": "5hVkcOTMJpQz",
        "outputId": "412eabcf-8db4-4531-eb3e-5900a2ccf52a"
      },
      "source": [
        "#틀린자세\n",
        "time_n = np.arange(0,len(acX_n), dt)\n",
        "print(time_n.shape)"
      ],
      "execution_count": 18,
      "outputs": [
        {
          "output_type": "stream",
          "name": "stdout",
          "text": [
            "(542,)\n"
          ]
        }
      ]
    },
    {
      "cell_type": "code",
      "metadata": {
        "colab": {
          "base_uri": "https://localhost:8080/"
        },
        "id": "Tl1B_A5qSc--",
        "outputId": "d533e38a-77f7-415e-c287-2e216376e5c2"
      },
      "source": [
        "#가속도/자이로 바른자세\n",
        "acX_y_5 = []\n",
        "acY_y_5 = []\n",
        "acZ_y_5 = []\n",
        "gyroX_y_5 = []\n",
        "gyroY_y_5 = []\n",
        "gyroZ_y_5 = []\n",
        "for i in range(len(acX_y)):\n",
        "  if i%dt==0:\n",
        "    acX_y_5.append(acX_y[i])\n",
        "    acY_y_5.append(acY_y[i])\n",
        "    acZ_y_5.append(acZ_y[i])\n",
        "    gyroX_y_5.append(gyroX_y[i])\n",
        "    gyroY_y_5.append(gyroY_y[i])\n",
        "    gyroZ_y_5.append(gyroZ_y[i])    \n",
        "acX_y_5 = np.array(acX_y_5)\n",
        "acY_y_5 = np.array(acY_y_5)\n",
        "acZ_y_5 = np.array(acZ_y_5)\n",
        "gyroX_y_5 = np.array(gyroX_y_5)\n",
        "gyroY_y_5 = np.array(gyroY_y_5)\n",
        "gyroZ_y_5 = np.array(gyroZ_y_5)\n",
        "print(acX_y_5.shape)\n",
        "print(acY_y_5.shape)\n",
        "print(acZ_y_5.shape)\n",
        "print(gyroX_y_5.shape)\n",
        "print(gyroY_y_5.shape)\n",
        "print(gyroZ_y_5.shape)"
      ],
      "execution_count": 20,
      "outputs": [
        {
          "output_type": "stream",
          "name": "stdout",
          "text": [
            "(516,)\n",
            "(516,)\n",
            "(516,)\n",
            "(516,)\n",
            "(516,)\n",
            "(516,)\n"
          ]
        }
      ]
    },
    {
      "cell_type": "code",
      "metadata": {
        "colab": {
          "base_uri": "https://localhost:8080/"
        },
        "id": "CQdVAo4sKOZn",
        "outputId": "b6624bef-e3a3-42c2-bb47-e491718fcdc1"
      },
      "source": [
        "#가속도/자이로 틀린자세\n",
        "acX_n_5 = []\n",
        "acY_n_5 = []\n",
        "acZ_n_5 = []\n",
        "gyroX_n_5 = []\n",
        "gyroY_n_5 = []\n",
        "gyroZ_n_5 = []\n",
        "for i in range(len(acX_n)):\n",
        "  if i%dt==0:\n",
        "    acX_n_5.append(acX_n[i])\n",
        "    acY_n_5.append(acY_n[i])\n",
        "    acZ_n_5.append(acZ_n[i])\n",
        "    gyroX_n_5.append(gyroX_n[i])\n",
        "    gyroY_n_5.append(gyroY_n[i])\n",
        "    gyroZ_n_5.append(gyroZ_n[i])    \n",
        "acX_n_5 = np.array(acX_n_5)\n",
        "acY_n_5 = np.array(acY_n_5)\n",
        "acZ_n_5 = np.array(acZ_n_5)\n",
        "gyroX_n_5 = np.array(gyroX_n_5)\n",
        "gyroY_n_5 = np.array(gyroY_n_5)\n",
        "gyroZ_n_5 = np.array(gyroZ_n_5)\n",
        "print(acX_n_5.shape)\n",
        "print(acY_n_5.shape)\n",
        "print(acZ_n_5.shape)\n",
        "print(gyroX_n_5.shape)\n",
        "print(gyroY_n_5.shape)\n",
        "print(gyroZ_n_5.shape)"
      ],
      "execution_count": 21,
      "outputs": [
        {
          "output_type": "stream",
          "name": "stdout",
          "text": [
            "(542,)\n",
            "(542,)\n",
            "(542,)\n",
            "(542,)\n",
            "(542,)\n",
            "(542,)\n"
          ]
        }
      ]
    },
    {
      "cell_type": "code",
      "metadata": {
        "colab": {
          "base_uri": "https://localhost:8080/"
        },
        "id": "azZyqF8bShPz",
        "outputId": "751fbc97-61da-4d0d-d5d8-c29a2d8df72b"
      },
      "source": [
        "#가속도 정규분포 랜덤수 뽑기\n",
        "acX_y_5_rand_norm = np.random.normal(acX_y_5.mean(), acX_y_5.std(), size=len(acX_y_5))\n",
        "acX_n_5_rand_norm = np.random.normal(acX_n_5.mean(), acX_n_5.std(), size=len(acX_n_5))\n",
        "acY_y_5_rand_norm = np.random.normal(acY_y_5.mean(), acY_y_5.std(), size=len(acY_y_5))\n",
        "acY_n_5_rand_norm = np.random.normal(acY_n_5.mean(), acY_n_5.std(), size=len(acY_n_5))\n",
        "acZ_y_5_rand_norm = np.random.normal(acZ_y_5.mean(), acZ_y_5.std(), size=len(acZ_y_5))\n",
        "acZ_n_5_rand_norm = np.random.normal(acZ_n_5.mean(), acZ_n_5.std(), size=len(acZ_n_5))\n",
        "print(acX_y_5_rand_norm.shape)\n",
        "print(acX_n_5_rand_norm.shape)\n",
        "print(acY_y_5_rand_norm.shape)\n",
        "print(acY_n_5_rand_norm.shape)\n",
        "print(acZ_y_5_rand_norm.shape)\n",
        "print(acZ_n_5_rand_norm.shape)"
      ],
      "execution_count": 22,
      "outputs": [
        {
          "output_type": "stream",
          "name": "stdout",
          "text": [
            "(516,)\n",
            "(542,)\n",
            "(516,)\n",
            "(542,)\n",
            "(516,)\n",
            "(542,)\n"
          ]
        }
      ]
    },
    {
      "cell_type": "code",
      "metadata": {
        "colab": {
          "base_uri": "https://localhost:8080/"
        },
        "id": "ZCLn6KVfLgoD",
        "outputId": "f063bcd8-67cc-413d-f4e5-9da5c78e8cef"
      },
      "source": [
        "#자이로 정규분포 랜덤수 뽑기\n",
        "gyroX_y_5_rand_norm = np.random.normal(gyroX_y_5.mean(), gyroX_y_5.std(), size=len(gyroX_y_5))\n",
        "gyroX_n_5_rand_norm = np.random.normal(gyroX_n_5.mean(), gyroX_n_5.std(), size=len(gyroX_n_5))\n",
        "gyroY_y_5_rand_norm = np.random.normal(gyroY_y_5.mean(), gyroY_y_5.std(), size=len(gyroY_y_5))\n",
        "gyroY_n_5_rand_norm = np.random.normal(gyroY_n_5.mean(), gyroY_n_5.std(), size=len(gyroY_n_5))\n",
        "gyroZ_y_5_rand_norm = np.random.normal(gyroZ_y_5.mean(), gyroZ_y_5.std(), size=len(gyroZ_y_5))\n",
        "gyroZ_n_5_rand_norm = np.random.normal(gyroZ_n_5.mean(), gyroZ_n_5.std(), size=len(gyroZ_n_5))\n",
        "print(gyroX_y_5_rand_norm.shape)\n",
        "print(gyroX_n_5_rand_norm.shape)\n",
        "print(gyroY_y_5_rand_norm.shape)\n",
        "print(gyroY_n_5_rand_norm.shape)\n",
        "print(gyroZ_y_5_rand_norm.shape)\n",
        "print(gyroZ_n_5_rand_norm.shape)"
      ],
      "execution_count": 23,
      "outputs": [
        {
          "output_type": "stream",
          "name": "stdout",
          "text": [
            "(516,)\n",
            "(542,)\n",
            "(516,)\n",
            "(542,)\n",
            "(516,)\n",
            "(542,)\n"
          ]
        }
      ]
    },
    {
      "cell_type": "code",
      "metadata": {
        "colab": {
          "base_uri": "https://localhost:8080/"
        },
        "id": "SDU2PEIzSuB1",
        "outputId": "ce0623b6-8ccb-4e3b-c1f6-90d15b4c3496"
      },
      "source": [
        "#잘된자세\n",
        "new_acX_y_5_arr = []\n",
        "new_acY_y_5_arr = []\n",
        "new_acZ_y_5_arr = []\n",
        "new_gyroX_y_5_arr = []\n",
        "new_gyroY_y_5_arr = []\n",
        "new_gyroZ_y_5_arr = []\n",
        "\n",
        "for i in range(len(acX_y_5)):\n",
        "  new_acX_y_5=acX_y_5[i]+acX_y_5_rand_norm[i]\n",
        "  new_acY_y_5=acY_y_5[i]+acY_y_5_rand_norm[i]\n",
        "  new_acZ_y_5=acZ_y_5[i]+acZ_y_5_rand_norm[i]\n",
        "  new_gyroX_y_5=gyroX_y_5[i]+gyroX_y_5_rand_norm[i]\n",
        "  new_gyroY_y_5=gyroY_y_5[i]+gyroY_y_5_rand_norm[i]\n",
        "  new_gyroZ_y_5=gyroZ_y_5[i]+gyroZ_y_5_rand_norm[i]\n",
        "  new_acX_y_5_arr.append([new_acX_y_5])\n",
        "  new_acY_y_5_arr.append([new_acY_y_5])\n",
        "  new_acZ_y_5_arr.append([new_acZ_y_5])\n",
        "  new_gyroX_y_5_arr.append([new_gyroX_y_5])\n",
        "  new_gyroY_y_5_arr.append([new_gyroY_y_5])\n",
        "  new_gyroZ_y_5_arr.append([new_gyroZ_y_5])\n",
        "\n",
        "new_acX_y_5_arr=np.array(new_acX_y_5_arr)\n",
        "new_acY_y_5_arr=np.array(new_acY_y_5_arr)\n",
        "new_acZ_y_5_arr=np.array(new_acZ_y_5_arr)\n",
        "new_gyroX_y_5_arr=np.array(new_gyroX_y_5_arr)\n",
        "new_gyroY_y_5_arr=np.array(new_gyroY_y_5_arr)\n",
        "new_gyroZ_y_5_arr=np.array(new_gyroZ_y_5_arr)\n",
        "\n",
        "print(new_acX_y_5_arr.shape)\n",
        "print(new_acY_y_5_arr.shape)\n",
        "print(new_acZ_y_5_arr.shape)\n",
        "print(new_gyroX_y_5_arr.shape)\n",
        "print(new_gyroY_y_5_arr.shape)\n",
        "print(new_gyroZ_y_5_arr.shape)"
      ],
      "execution_count": 59,
      "outputs": [
        {
          "output_type": "stream",
          "name": "stdout",
          "text": [
            "(516, 1)\n",
            "(516, 1)\n",
            "(516, 1)\n",
            "(516, 1)\n",
            "(516, 1)\n",
            "(516, 1)\n"
          ]
        }
      ]
    },
    {
      "cell_type": "code",
      "metadata": {
        "colab": {
          "base_uri": "https://localhost:8080/"
        },
        "id": "vgsTCXtkONyE",
        "outputId": "c57fae95-0c06-4bb4-fc23-46302182e839"
      },
      "source": [
        "#잘못된자세\n",
        "new_acX_n_5_arr = []\n",
        "new_acY_n_5_arr = []\n",
        "new_acZ_n_5_arr = []\n",
        "new_gyroX_n_5_arr = []\n",
        "new_gyroY_n_5_arr = []\n",
        "new_gyroZ_n_5_arr = []\n",
        "\n",
        "for i in range(len(acX_n_5)):\n",
        "  new_acX_n_5=acX_n_5[i]+acX_n_5_rand_norm[i]\n",
        "  new_acY_n_5=acY_n_5[i]+acY_n_5_rand_norm[i]\n",
        "  new_acZ_n_5=acZ_n_5[i]+acZ_n_5_rand_norm[i]\n",
        "  new_gyroX_n_5=gyroX_n_5[i]+gyroX_n_5_rand_norm[i]\n",
        "  new_gyroY_n_5=gyroY_n_5[i]+gyroY_n_5_rand_norm[i]\n",
        "  new_gyroZ_n_5=gyroZ_n_5[i]+gyroZ_n_5_rand_norm[i]\n",
        "  new_acX_n_5_arr.append([new_acX_n_5])\n",
        "  new_acY_n_5_arr.append([new_acY_n_5])\n",
        "  new_acZ_n_5_arr.append([new_acZ_n_5])\n",
        "  new_gyroX_n_5_arr.append([new_gyroX_n_5])\n",
        "  new_gyroY_n_5_arr.append([new_gyroY_n_5])\n",
        "  new_gyroZ_n_5_arr.append([new_gyroZ_n_5])\n",
        "\n",
        "new_acX_n_5_arr=np.array(new_acX_n_5_arr)\n",
        "new_acY_n_5_arr=np.array(new_acY_n_5_arr)\n",
        "new_acZ_n_5_arr=np.array(new_acZ_n_5_arr)\n",
        "new_gyroX_n_5_arr=np.array(new_gyroX_n_5_arr)\n",
        "new_gyroY_n_5_arr=np.array(new_gyroY_n_5_arr)\n",
        "new_gyroZ_n_5_arr=np.array(new_gyroZ_n_5_arr)\n",
        "\n",
        "print(new_acX_n_5_arr.shape)\n",
        "print(new_acY_n_5_arr.shape)\n",
        "print(new_acZ_n_5_arr.shape)\n",
        "print(new_gyroX_n_5_arr.shape)\n",
        "print(new_gyroY_n_5_arr.shape)\n",
        "print(new_gyroZ_n_5_arr.shape)"
      ],
      "execution_count": 60,
      "outputs": [
        {
          "output_type": "stream",
          "name": "stdout",
          "text": [
            "(542, 1)\n",
            "(542, 1)\n",
            "(542, 1)\n",
            "(542, 1)\n",
            "(542, 1)\n",
            "(542, 1)\n"
          ]
        }
      ]
    },
    {
      "cell_type": "code",
      "metadata": {
        "colab": {
          "base_uri": "https://localhost:8080/",
          "height": 438
        },
        "id": "gWyfMKtyZFFl",
        "outputId": "bde8c95f-39cf-4d62-a29d-5d8f7c22536b"
      },
      "source": [
        "#바른자세 데이터 통합\n",
        "total_data_y=np.concatenate((new_acX_y_5_arr,new_acY_y_5_arr,new_acZ_y_5_arr,\n",
        "                          new_gyroX_y_5_arr, new_gyroY_y_5_arr, new_gyroZ_y_5_arr),axis=1)\n",
        "data_y = []\n",
        "for i in range(len(total_data_y)):\n",
        "  data_y.append(['y'])\n",
        "data_y = np.array(data_y)\n",
        "final_data_y=np.concatenate((total_data_y,data_y),axis=1)\n",
        "csv_data_y=pd.DataFrame(final_data_y)\n",
        "csv_data_y.columns = ['AcX', 'AcY','AcZ','GyroX','GyroY','GyroZ','class']\n",
        "csv_data_y\n",
        "#final_data_y\n",
        "#print(final_data_y.shape)"
      ],
      "execution_count": 81,
      "outputs": [
        {
          "output_type": "execute_result",
          "data": {
            "text/html": [
              "<div>\n",
              "<style scoped>\n",
              "    .dataframe tbody tr th:only-of-type {\n",
              "        vertical-align: middle;\n",
              "    }\n",
              "\n",
              "    .dataframe tbody tr th {\n",
              "        vertical-align: top;\n",
              "    }\n",
              "\n",
              "    .dataframe thead th {\n",
              "        text-align: right;\n",
              "    }\n",
              "</style>\n",
              "<table border=\"1\" class=\"dataframe\">\n",
              "  <thead>\n",
              "    <tr style=\"text-align: right;\">\n",
              "      <th></th>\n",
              "      <th>AcX</th>\n",
              "      <th>AcY</th>\n",
              "      <th>AcZ</th>\n",
              "      <th>GyroX</th>\n",
              "      <th>GyroY</th>\n",
              "      <th>GyroZ</th>\n",
              "      <th>class</th>\n",
              "    </tr>\n",
              "  </thead>\n",
              "  <tbody>\n",
              "    <tr>\n",
              "      <th>0</th>\n",
              "      <td>3.8583659549343596</td>\n",
              "      <td>-4.598745562614927</td>\n",
              "      <td>-18.067870476399943</td>\n",
              "      <td>2.0882640989211603</td>\n",
              "      <td>0.05739555685254488</td>\n",
              "      <td>-0.3063559417789413</td>\n",
              "      <td>y</td>\n",
              "    </tr>\n",
              "    <tr>\n",
              "      <th>1</th>\n",
              "      <td>4.161371983920205</td>\n",
              "      <td>-7.932141171180941</td>\n",
              "      <td>-15.695908432147125</td>\n",
              "      <td>-3.42113591768339</td>\n",
              "      <td>-0.1983291929390521</td>\n",
              "      <td>-0.12867302785204537</td>\n",
              "      <td>y</td>\n",
              "    </tr>\n",
              "    <tr>\n",
              "      <th>2</th>\n",
              "      <td>3.480783162986776</td>\n",
              "      <td>-12.600331122347596</td>\n",
              "      <td>-15.759850396771938</td>\n",
              "      <td>-2.0651679043834843</td>\n",
              "      <td>-0.013736314006555755</td>\n",
              "      <td>-0.5003826095835868</td>\n",
              "      <td>y</td>\n",
              "    </tr>\n",
              "    <tr>\n",
              "      <th>3</th>\n",
              "      <td>3.3883712974411706</td>\n",
              "      <td>-0.9064975897285095</td>\n",
              "      <td>-16.311151463038605</td>\n",
              "      <td>2.4522977909936707</td>\n",
              "      <td>0.05146176238449463</td>\n",
              "      <td>-0.13421756137179552</td>\n",
              "      <td>y</td>\n",
              "    </tr>\n",
              "    <tr>\n",
              "      <th>4</th>\n",
              "      <td>2.4493753903273023</td>\n",
              "      <td>7.847355242322264</td>\n",
              "      <td>-17.61254133180004</td>\n",
              "      <td>-1.083849124875857</td>\n",
              "      <td>-0.07338500017297903</td>\n",
              "      <td>0.06186357960223969</td>\n",
              "      <td>y</td>\n",
              "    </tr>\n",
              "    <tr>\n",
              "      <th>...</th>\n",
              "      <td>...</td>\n",
              "      <td>...</td>\n",
              "      <td>...</td>\n",
              "      <td>...</td>\n",
              "      <td>...</td>\n",
              "      <td>...</td>\n",
              "      <td>...</td>\n",
              "    </tr>\n",
              "    <tr>\n",
              "      <th>511</th>\n",
              "      <td>3.244173443317339</td>\n",
              "      <td>13.044283636463414</td>\n",
              "      <td>-10.838277823112962</td>\n",
              "      <td>4.840009588138797</td>\n",
              "      <td>0.20826248122803354</td>\n",
              "      <td>0.6865756060463526</td>\n",
              "      <td>y</td>\n",
              "    </tr>\n",
              "    <tr>\n",
              "      <th>512</th>\n",
              "      <td>2.52412137170496</td>\n",
              "      <td>-4.867882926805121</td>\n",
              "      <td>-15.25985352946611</td>\n",
              "      <td>1.2058038447371273</td>\n",
              "      <td>-0.13583598272066796</td>\n",
              "      <td>-0.4112142220772803</td>\n",
              "      <td>y</td>\n",
              "    </tr>\n",
              "    <tr>\n",
              "      <th>513</th>\n",
              "      <td>2.636753066925511</td>\n",
              "      <td>1.593363485869911</td>\n",
              "      <td>-12.02330791999724</td>\n",
              "      <td>2.3395208554566724</td>\n",
              "      <td>-0.047246324372904075</td>\n",
              "      <td>-0.41297443410318446</td>\n",
              "      <td>y</td>\n",
              "    </tr>\n",
              "    <tr>\n",
              "      <th>514</th>\n",
              "      <td>3.3945208430073803</td>\n",
              "      <td>-7.096827083155645</td>\n",
              "      <td>-6.374894183768549</td>\n",
              "      <td>0.08898615141352102</td>\n",
              "      <td>0.0022329791588796694</td>\n",
              "      <td>0.49865040598114396</td>\n",
              "      <td>y</td>\n",
              "    </tr>\n",
              "    <tr>\n",
              "      <th>515</th>\n",
              "      <td>3.1327976190163462</td>\n",
              "      <td>6.325595402900044</td>\n",
              "      <td>-18.135025182072212</td>\n",
              "      <td>3.548357166050419</td>\n",
              "      <td>0.17089508233954076</td>\n",
              "      <td>0.08991748696786012</td>\n",
              "      <td>y</td>\n",
              "    </tr>\n",
              "  </tbody>\n",
              "</table>\n",
              "<p>516 rows × 7 columns</p>\n",
              "</div>"
            ],
            "text/plain": [
              "                    AcX                  AcY  ...                 GyroZ class\n",
              "0    3.8583659549343596   -4.598745562614927  ...   -0.3063559417789413     y\n",
              "1     4.161371983920205   -7.932141171180941  ...  -0.12867302785204537     y\n",
              "2     3.480783162986776  -12.600331122347596  ...   -0.5003826095835868     y\n",
              "3    3.3883712974411706  -0.9064975897285095  ...  -0.13421756137179552     y\n",
              "4    2.4493753903273023    7.847355242322264  ...   0.06186357960223969     y\n",
              "..                  ...                  ...  ...                   ...   ...\n",
              "511   3.244173443317339   13.044283636463414  ...    0.6865756060463526     y\n",
              "512    2.52412137170496   -4.867882926805121  ...   -0.4112142220772803     y\n",
              "513   2.636753066925511    1.593363485869911  ...  -0.41297443410318446     y\n",
              "514  3.3945208430073803   -7.096827083155645  ...   0.49865040598114396     y\n",
              "515  3.1327976190163462    6.325595402900044  ...   0.08991748696786012     y\n",
              "\n",
              "[516 rows x 7 columns]"
            ]
          },
          "metadata": {},
          "execution_count": 81
        }
      ]
    },
    {
      "cell_type": "code",
      "metadata": {
        "colab": {
          "base_uri": "https://localhost:8080/"
        },
        "id": "Yl5HF5nKQLIN",
        "outputId": "964855c0-b9d7-4cc9-e199-07632e667bf5"
      },
      "source": [
        "#잘못된자세 데이터 통합\n",
        "total_data_n=np.concatenate((new_acX_n_5_arr,new_acY_n_5_arr,new_acZ_n_5_arr,\n",
        "                          new_gyroX_n_5_arr, new_gyroY_n_5_arr, new_gyroZ_n_5_arr),axis=1)\n",
        "data_n = []\n",
        "for i in range(len(total_data_n)):\n",
        "  data_n.append(['n'])\n",
        "data_n = np.array(data_n)\n",
        "final_data_n=np.concatenate((total_data_n,data_n),axis=1)\n",
        "csv_data_n=pd.DataFrame(final_data_n)\n",
        "csv_data_n.columns = ['AcX', 'AcY','AcZ','GyroX','GyroY','GyroZ','class']\n",
        "csv_data_n\n",
        "print(total_data_n.shape)"
      ],
      "execution_count": 82,
      "outputs": [
        {
          "output_type": "stream",
          "name": "stdout",
          "text": [
            "(542, 6)\n"
          ]
        }
      ]
    },
    {
      "cell_type": "code",
      "metadata": {
        "colab": {
          "base_uri": "https://localhost:8080/",
          "height": 418
        },
        "id": "pAN9ONi_ZCBS",
        "outputId": "7cf4f3f6-3326-41c3-9adb-0a2263d83472"
      },
      "source": [
        "#최종파일 만들기\n",
        "final_data = np.concatenate((final_data_y,final_data_n),axis=0)\n",
        "csv_final_data=pd.DataFrame(final_data)\n",
        "csv_final_data.columns = ['AcX', 'AcY','AcZ','GyroX','GyroY','GyroZ','class']\n",
        "csv_final_data\n",
        "#print(final_data.shape)"
      ],
      "execution_count": 85,
      "outputs": [
        {
          "output_type": "execute_result",
          "data": {
            "text/html": [
              "<div>\n",
              "<style scoped>\n",
              "    .dataframe tbody tr th:only-of-type {\n",
              "        vertical-align: middle;\n",
              "    }\n",
              "\n",
              "    .dataframe tbody tr th {\n",
              "        vertical-align: top;\n",
              "    }\n",
              "\n",
              "    .dataframe thead th {\n",
              "        text-align: right;\n",
              "    }\n",
              "</style>\n",
              "<table border=\"1\" class=\"dataframe\">\n",
              "  <thead>\n",
              "    <tr style=\"text-align: right;\">\n",
              "      <th></th>\n",
              "      <th>AcX</th>\n",
              "      <th>AcY</th>\n",
              "      <th>AcZ</th>\n",
              "      <th>GyroX</th>\n",
              "      <th>GyroY</th>\n",
              "      <th>GyroZ</th>\n",
              "      <th>class</th>\n",
              "    </tr>\n",
              "  </thead>\n",
              "  <tbody>\n",
              "    <tr>\n",
              "      <th>0</th>\n",
              "      <td>3.8583659549343596</td>\n",
              "      <td>-4.598745562614927</td>\n",
              "      <td>-18.067870476399943</td>\n",
              "      <td>2.0882640989211603</td>\n",
              "      <td>0.05739555685254488</td>\n",
              "      <td>-0.3063559417789413</td>\n",
              "      <td>y</td>\n",
              "    </tr>\n",
              "    <tr>\n",
              "      <th>1</th>\n",
              "      <td>4.161371983920205</td>\n",
              "      <td>-7.932141171180941</td>\n",
              "      <td>-15.695908432147125</td>\n",
              "      <td>-3.42113591768339</td>\n",
              "      <td>-0.1983291929390521</td>\n",
              "      <td>-0.12867302785204537</td>\n",
              "      <td>y</td>\n",
              "    </tr>\n",
              "    <tr>\n",
              "      <th>2</th>\n",
              "      <td>3.480783162986776</td>\n",
              "      <td>-12.600331122347596</td>\n",
              "      <td>-15.759850396771938</td>\n",
              "      <td>-2.0651679043834843</td>\n",
              "      <td>-0.013736314006555755</td>\n",
              "      <td>-0.5003826095835868</td>\n",
              "      <td>y</td>\n",
              "    </tr>\n",
              "    <tr>\n",
              "      <th>3</th>\n",
              "      <td>3.3883712974411706</td>\n",
              "      <td>-0.9064975897285095</td>\n",
              "      <td>-16.311151463038605</td>\n",
              "      <td>2.4522977909936707</td>\n",
              "      <td>0.05146176238449463</td>\n",
              "      <td>-0.13421756137179552</td>\n",
              "      <td>y</td>\n",
              "    </tr>\n",
              "    <tr>\n",
              "      <th>4</th>\n",
              "      <td>2.4493753903273023</td>\n",
              "      <td>7.847355242322264</td>\n",
              "      <td>-17.61254133180004</td>\n",
              "      <td>-1.083849124875857</td>\n",
              "      <td>-0.07338500017297903</td>\n",
              "      <td>0.06186357960223969</td>\n",
              "      <td>y</td>\n",
              "    </tr>\n",
              "    <tr>\n",
              "      <th>...</th>\n",
              "      <td>...</td>\n",
              "      <td>...</td>\n",
              "      <td>...</td>\n",
              "      <td>...</td>\n",
              "      <td>...</td>\n",
              "      <td>...</td>\n",
              "      <td>...</td>\n",
              "    </tr>\n",
              "    <tr>\n",
              "      <th>1053</th>\n",
              "      <td>1.0088159494644904</td>\n",
              "      <td>-2.849153127646339</td>\n",
              "      <td>-23.490127056478524</td>\n",
              "      <td>-4.108310625075763</td>\n",
              "      <td>0.5114115521449712</td>\n",
              "      <td>-0.9097302870199566</td>\n",
              "      <td>n</td>\n",
              "    </tr>\n",
              "    <tr>\n",
              "      <th>1054</th>\n",
              "      <td>-1.3230239955955807</td>\n",
              "      <td>9.028621452656965</td>\n",
              "      <td>-16.999753351841168</td>\n",
              "      <td>-4.182843979211485</td>\n",
              "      <td>0.14435909906195293</td>\n",
              "      <td>-1.10192954703957</td>\n",
              "      <td>n</td>\n",
              "    </tr>\n",
              "    <tr>\n",
              "      <th>1055</th>\n",
              "      <td>2.757482645604782</td>\n",
              "      <td>-3.3767624658976763</td>\n",
              "      <td>-20.529307780992536</td>\n",
              "      <td>1.9044339875469052</td>\n",
              "      <td>0.7358062483429952</td>\n",
              "      <td>-0.5484927907938666</td>\n",
              "      <td>n</td>\n",
              "    </tr>\n",
              "    <tr>\n",
              "      <th>1056</th>\n",
              "      <td>0.24190040321646267</td>\n",
              "      <td>-19.418382602687128</td>\n",
              "      <td>-24.693382670182825</td>\n",
              "      <td>-0.9762107139966142</td>\n",
              "      <td>-0.008020246402443088</td>\n",
              "      <td>-0.5370145492147124</td>\n",
              "      <td>n</td>\n",
              "    </tr>\n",
              "    <tr>\n",
              "      <th>1057</th>\n",
              "      <td>-0.45722356143721266</td>\n",
              "      <td>12.074399830184259</td>\n",
              "      <td>-17.374231451003354</td>\n",
              "      <td>1.2287267806142685</td>\n",
              "      <td>-1.051032554087954</td>\n",
              "      <td>-0.307145500876532</td>\n",
              "      <td>n</td>\n",
              "    </tr>\n",
              "  </tbody>\n",
              "</table>\n",
              "<p>1058 rows × 7 columns</p>\n",
              "</div>"
            ],
            "text/plain": [
              "                       AcX                  AcY  ...                 GyroZ class\n",
              "0       3.8583659549343596   -4.598745562614927  ...   -0.3063559417789413     y\n",
              "1        4.161371983920205   -7.932141171180941  ...  -0.12867302785204537     y\n",
              "2        3.480783162986776  -12.600331122347596  ...   -0.5003826095835868     y\n",
              "3       3.3883712974411706  -0.9064975897285095  ...  -0.13421756137179552     y\n",
              "4       2.4493753903273023    7.847355242322264  ...   0.06186357960223969     y\n",
              "...                    ...                  ...  ...                   ...   ...\n",
              "1053    1.0088159494644904   -2.849153127646339  ...   -0.9097302870199566     n\n",
              "1054   -1.3230239955955807    9.028621452656965  ...     -1.10192954703957     n\n",
              "1055     2.757482645604782  -3.3767624658976763  ...   -0.5484927907938666     n\n",
              "1056   0.24190040321646267  -19.418382602687128  ...   -0.5370145492147124     n\n",
              "1057  -0.45722356143721266   12.074399830184259  ...    -0.307145500876532     n\n",
              "\n",
              "[1058 rows x 7 columns]"
            ]
          },
          "metadata": {},
          "execution_count": 85
        }
      ]
    },
    {
      "cell_type": "code",
      "metadata": {
        "id": "8d0LG_v4cFky"
      },
      "source": [
        "#csv파일 저장하기\n",
        "csv_final_data.to_csv('/content/drive/MyDrive/캡스톤디자인2/Sendsordata/Dumbbellcurl_rw_24_generate_ver1.csv')"
      ],
      "execution_count": 87,
      "outputs": []
    },
    {
      "cell_type": "code",
      "metadata": {
        "colab": {
          "base_uri": "https://localhost:8080/"
        },
        "id": "zLoUxQGRNVLT",
        "outputId": "5c7b0449-fbe3-46f8-8d44-df2c1883bfa2"
      },
      "source": [
        "print(time_y.shape)\n",
        "print(new_acX_y_5_arr.shape)\n",
        "print(len(time_y))\n",
        "print(len(new_acX_y_5_arr))"
      ],
      "execution_count": 33,
      "outputs": [
        {
          "output_type": "stream",
          "name": "stdout",
          "text": [
            "(516,)\n",
            "(516,)\n",
            "516\n",
            "516\n"
          ]
        }
      ]
    },
    {
      "cell_type": "code",
      "metadata": {
        "colab": {
          "base_uri": "https://localhost:8080/",
          "height": 269
        },
        "id": "Lk8emaxpTWDO",
        "outputId": "6c8064ff-0e67-4efb-9f7e-ee227766da11"
      },
      "source": [
        "#필요\n",
        "#잘된 운동 원본 데이터\n",
        "plt.plot(time_y, acX_y_5) \n",
        "plt.axis([100, 500, -1, 4])\n",
        "plt.show()"
      ],
      "execution_count": 34,
      "outputs": [
        {
          "output_type": "display_data",
          "data": {
            "image/png": "[encoded data removed]",
            "text/plain": [
              "<Figure size 432x288 with 1 Axes>"
            ]
          },
          "metadata": {
            "needs_background": "light"
          }
        }
      ]
    },
    {
      "cell_type": "code",
      "metadata": {
        "colab": {
          "base_uri": "https://localhost:8080/"
        },
        "id": "yKK2wDvoNui8",
        "outputId": "57377c42-4210-4b41-ab66-3fdc7ba24ea2"
      },
      "source": [
        "print(len(time_y))\n",
        "print(len(acX_y_5))"
      ],
      "execution_count": 35,
      "outputs": [
        {
          "output_type": "stream",
          "name": "stdout",
          "text": [
            "516\n",
            "516\n"
          ]
        }
      ]
    },
    {
      "cell_type": "code",
      "metadata": {
        "colab": {
          "base_uri": "https://localhost:8080/",
          "height": 269
        },
        "id": "PluADLK3TFEZ",
        "outputId": "a375ed57-62a5-4818-fedf-b477f4c342ce"
      },
      "source": [
        "#필요\n",
        "#잘된 운동 생성한 데이터\n",
        "plt.plot(time,new_acX_y_5_arr) \n",
        "plt.axis([100, 500, -1, 6])\n",
        "plt.show()"
      ],
      "execution_count": 19,
      "outputs": [
        {
          "output_type": "display_data",
          "data": {
            "image/png": "[encoded data removed]",
            "text/plain": [
              "<Figure size 432x288 with 1 Axes>"
            ]
          },
          "metadata": {
            "needs_background": "light"
          }
        }
      ]
    },
    {
      "cell_type": "code",
      "metadata": {
        "colab": {
          "base_uri": "https://localhost:8080/",
          "height": 269
        },
        "id": "vbtuNynnTeaS",
        "outputId": "10465329-6d48-4799-f767-cbffaf67a5bc"
      },
      "source": [
        "#필요\n",
        "#잘된 운동 원본 데이터\n",
        "plt.plot(time, acX_y_5, 'r',\n",
        "         time, new_acX_y_5_arr, 'b') \n",
        "plt.axis([100, 500, -1, 6])\n",
        "plt.show()"
      ],
      "execution_count": 21,
      "outputs": [
        {
          "output_type": "display_data",
          "data": {
            "image/png": "[encoded data removed]",
            "text/plain": [
              "<Figure size 432x288 with 1 Axes>"
            ]
          },
          "metadata": {
            "needs_background": "light"
          }
        }
      ]
    },
    {
      "cell_type": "code",
      "metadata": {
        "id": "SC-yJqX2T9BG"
      },
      "source": [
        ""
      ],
      "execution_count": null,
      "outputs": []
    }
  ]
}